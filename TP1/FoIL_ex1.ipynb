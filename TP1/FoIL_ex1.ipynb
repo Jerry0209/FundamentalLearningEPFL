{
  "cells": [
    {
      "cell_type": "markdown",
      "metadata": {
        "id": "view-in-github",
        "colab_type": "text"
      },
      "source": [
        "<a href=\"https://colab.research.google.com/github/Jerry0209/FundamentalLearningEPFL/blob/main/TP1/FoIL_ex1.ipynb\" target=\"_parent\"><img src=\"https://colab.research.google.com/assets/colab-badge.svg\" alt=\"Open In Colab\"/></a>"
      ]
    },
    {
      "cell_type": "markdown",
      "metadata": {
        "id": "GteYUTHvkZtc"
      },
      "source": [
        "# EE-411 Fundamentals of inference and learning, EPFL\n",
        "## Exercise Session 1: looking at data with python and pandas\n",
        "\n",
        "In this first set of exercices, we will start the course by solving some simple python problems that will help you warm up for the future. We advise you to run python notebooks on your browser, for instance using google colab (Watch <a href=\"https://https://www.youtube.com/watch?v=RLYoEyIHL6A\">Introduction to Colab</a> to find out more) or our own serveur in epfl (on <a href=\"https://noto.epfl.ch/\">noto.epfl.ch</a>). If you need to refresh your python skills, you may start by our introductory notebooks [here](https://github.com/IdePHICS/FundamentalLearningEPFL2021/blob/main/TP0/Intro%20to%20Python.ipynb) and [there](https://github.com/IdePHICS/FundamentalLearningEPFL2021/blob/main/TP0/Visualization.ipynb).\n",
        "\n",
        "**What you will learn today:** In this first session, we will discuss briefly how to use python, how to use pandas (a powerful, and easy to use, open source data analysis and manipulation tool), and discuss the idea of permutation test and bootstrap, that are amazingly useful concepts from statistics.\n",
        "\n"
      ]
    },
    {
      "cell_type": "markdown",
      "metadata": {
        "id": "izBv5XTukZth"
      },
      "source": [
        "# The Brexit data: who wanted out?"
      ]
    },
    {
      "cell_type": "markdown",
      "metadata": {
        "id": "BTGq_uJZkZth"
      },
      "source": [
        "\n",
        "We will introduce the concept of permutation test in the hypothesis testing problem exploiting a cool analysis on the Brexit referendum following this great resource https://matthew-brett.github.io/les-pilot/brexit_ages.html. This will give us the opportunity to review the basic functionalities of pandas, a pivotal package in data-handling which we will find often during this course. In fact, you may want to follow an introduction to pandas (for instance [this one](https://www.learndatasci.com/tutorials/python-pandas-tutorial-complete-introduction-for-beginners/), or the very useful [Most Important Pandas Functions for Data Science](https://www.analyticsvidhya.com/blog/2021/05/pandas-functions-13-most-important/)\n",
        ").\n",
        "\n",
        "Here is our problem: The Hansard society made a poll in the 2016 interviewing 1771 people on the Brexit referendum  (data available here https://beta.ukdataservice.ac.uk/datacatalogue/studies/study?id=8183).\n"
      ]
    },
    {
      "cell_type": "markdown",
      "metadata": {
        "id": "pWSuVuGJkZti"
      },
      "source": [
        "If we dig into the data, we see that the average age of the \"Brexiteers\" is higher from the one of the \"Remainers\".\n",
        "We are interested in addressing the following question: how $\\textbf{confident}$ can we be that this rule is general and is not an artifact due to low sample size?\n"
      ]
    },
    {
      "cell_type": "markdown",
      "metadata": {
        "id": "0t4De2E4kZti"
      },
      "source": [
        "This problem falls in the broader context of hypothesis testing problem:\n",
        "\n",
        "* Hypothesis (H1) - effective difference in the age of Brexiteers and Remainers\n",
        "                       \n",
        "                         vs\n",
        "                         \n",
        "* \"Null hypothesis\" (H0) - no difference in the age of the two groups\n",
        "\n",
        "This seems like a hard problem but we will see that with a very simple idea we will be able to characterize the answer. Let's proceed by small steps and let's understand how to handle a dataset with pandas.\n"
      ]
    },
    {
      "cell_type": "markdown",
      "metadata": {
        "id": "ef6-VdzBkZtj"
      },
      "source": [
        "### $\\color{darkblue}{\\text{Data-handling with pandas }}$"
      ]
    },
    {
      "cell_type": "code",
      "execution_count": 2,
      "metadata": {
        "id": "AeFbJQYWkZtj"
      },
      "outputs": [],
      "source": [
        "# Let's import the package\n",
        "import pandas as pd"
      ]
    },
    {
      "cell_type": "code",
      "execution_count": 3,
      "metadata": {
        "id": "sYU8MEOCkZtk"
      },
      "outputs": [],
      "source": [
        "# Read data using pd.read_csv obtaining a \"data frame\" (df) object\n",
        "data_raw = pd.read_csv('https://raw.githubusercontent.com/IdePHICS/FundamentalLearningEPFL/main/TP1/audit_of_political_engagement_14_2017.tab', sep = '\\t')"
      ]
    },
    {
      "cell_type": "markdown",
      "metadata": {
        "id": "ZBy3sb8HkZtl"
      },
      "source": [
        "The way pandas datas is presented look messy at first. It is called a **dataframe**. By printing the data frame, this is what we see:"
      ]
    },
    {
      "cell_type": "code",
      "execution_count": 4,
      "metadata": {
        "colab": {
          "base_uri": "https://localhost:8080/",
          "height": 444
        },
        "id": "0_vuPZcQkZtl",
        "outputId": "9e87b31f-5695-468f-bba0-b853320acc87",
        "scrolled": true
      },
      "outputs": [
        {
          "output_type": "execute_result",
          "data": {
            "text/plain": [
              "      cu041  cu042  cu043  cu044  cu045  cu046  cu047  cu048  cu049  cu0410  \\\n",
              "0         0      0      0      0      1      1      0      0      0       0   \n",
              "1         0      0      0      0      0      0      0      0      0       1   \n",
              "2         0      0      0      0      1      0      0      0      0       0   \n",
              "3         0      0      0      0      1      0      1      0      0       0   \n",
              "4         0      0      0      1      1      0      1      0      0       0   \n",
              "...     ...    ...    ...    ...    ...    ...    ...    ...    ...     ...   \n",
              "1766      0      0      0      0      0      0      0      0      0       0   \n",
              "1767      0      0      0      0      0      0      0      0      0       0   \n",
              "1768      0      0      0      0      0      0      0      0      0       0   \n",
              "1769      0      0      0      0      0      0      0      0      0       0   \n",
              "1770      0      0      0      0      0      0      0      0      0       0   \n",
              "\n",
              "      ...  intten  cx_971_980  serial  week      wts  numage  weight0  \\\n",
              "0     ...      -1     3.41659    1399   648  3.41659      37  3.41659   \n",
              "1     ...      -1     2.68198    1733   648  2.68198      55  2.68198   \n",
              "2     ...      -1     0.79379    1736   648  0.79379      71  0.79379   \n",
              "3     ...      -1     1.40580    1737   648  1.40580      37  1.40580   \n",
              "4     ...      -1     0.89475    1738   648  0.89475      42  0.89475   \n",
              "...   ...     ...         ...     ...   ...      ...     ...      ...   \n",
              "1766  ...       9     0.44339    3423   649  0.44339      39  0.44339   \n",
              "1767  ...       9     0.44086    3425   649  0.44086      20  0.44086   \n",
              "1768  ...       9     0.32590    3426   649  0.32590      31  0.32590   \n",
              "1769  ...       9     0.66970    3427   649  0.66970      47  0.66970   \n",
              "1770  ...       9     0.39478    3434   649  0.39478      25  0.39478   \n",
              "\n",
              "      sgrade_grp  age_grp  region2  \n",
              "0              1        4        3  \n",
              "1              2        6        3  \n",
              "2              2        7        4  \n",
              "3              1        4        4  \n",
              "4              2        4        4  \n",
              "...          ...      ...      ...  \n",
              "1766           1        4        4  \n",
              "1767           3        2        4  \n",
              "1768           3        3        4  \n",
              "1769           4        5        4  \n",
              "1770           4        3        4  \n",
              "\n",
              "[1771 rows x 370 columns]"
            ],
            "text/html": [
              "\n",
              "  <div id=\"df-1783ec01-21ce-48e2-bd20-d23cae3e2607\" class=\"colab-df-container\">\n",
              "    <div>\n",
              "<style scoped>\n",
              "    .dataframe tbody tr th:only-of-type {\n",
              "        vertical-align: middle;\n",
              "    }\n",
              "\n",
              "    .dataframe tbody tr th {\n",
              "        vertical-align: top;\n",
              "    }\n",
              "\n",
              "    .dataframe thead th {\n",
              "        text-align: right;\n",
              "    }\n",
              "</style>\n",
              "<table border=\"1\" class=\"dataframe\">\n",
              "  <thead>\n",
              "    <tr style=\"text-align: right;\">\n",
              "      <th></th>\n",
              "      <th>cu041</th>\n",
              "      <th>cu042</th>\n",
              "      <th>cu043</th>\n",
              "      <th>cu044</th>\n",
              "      <th>cu045</th>\n",
              "      <th>cu046</th>\n",
              "      <th>cu047</th>\n",
              "      <th>cu048</th>\n",
              "      <th>cu049</th>\n",
              "      <th>cu0410</th>\n",
              "      <th>...</th>\n",
              "      <th>intten</th>\n",
              "      <th>cx_971_980</th>\n",
              "      <th>serial</th>\n",
              "      <th>week</th>\n",
              "      <th>wts</th>\n",
              "      <th>numage</th>\n",
              "      <th>weight0</th>\n",
              "      <th>sgrade_grp</th>\n",
              "      <th>age_grp</th>\n",
              "      <th>region2</th>\n",
              "    </tr>\n",
              "  </thead>\n",
              "  <tbody>\n",
              "    <tr>\n",
              "      <th>0</th>\n",
              "      <td>0</td>\n",
              "      <td>0</td>\n",
              "      <td>0</td>\n",
              "      <td>0</td>\n",
              "      <td>1</td>\n",
              "      <td>1</td>\n",
              "      <td>0</td>\n",
              "      <td>0</td>\n",
              "      <td>0</td>\n",
              "      <td>0</td>\n",
              "      <td>...</td>\n",
              "      <td>-1</td>\n",
              "      <td>3.41659</td>\n",
              "      <td>1399</td>\n",
              "      <td>648</td>\n",
              "      <td>3.41659</td>\n",
              "      <td>37</td>\n",
              "      <td>3.41659</td>\n",
              "      <td>1</td>\n",
              "      <td>4</td>\n",
              "      <td>3</td>\n",
              "    </tr>\n",
              "    <tr>\n",
              "      <th>1</th>\n",
              "      <td>0</td>\n",
              "      <td>0</td>\n",
              "      <td>0</td>\n",
              "      <td>0</td>\n",
              "      <td>0</td>\n",
              "      <td>0</td>\n",
              "      <td>0</td>\n",
              "      <td>0</td>\n",
              "      <td>0</td>\n",
              "      <td>1</td>\n",
              "      <td>...</td>\n",
              "      <td>-1</td>\n",
              "      <td>2.68198</td>\n",
              "      <td>1733</td>\n",
              "      <td>648</td>\n",
              "      <td>2.68198</td>\n",
              "      <td>55</td>\n",
              "      <td>2.68198</td>\n",
              "      <td>2</td>\n",
              "      <td>6</td>\n",
              "      <td>3</td>\n",
              "    </tr>\n",
              "    <tr>\n",
              "      <th>2</th>\n",
              "      <td>0</td>\n",
              "      <td>0</td>\n",
              "      <td>0</td>\n",
              "      <td>0</td>\n",
              "      <td>1</td>\n",
              "      <td>0</td>\n",
              "      <td>0</td>\n",
              "      <td>0</td>\n",
              "      <td>0</td>\n",
              "      <td>0</td>\n",
              "      <td>...</td>\n",
              "      <td>-1</td>\n",
              "      <td>0.79379</td>\n",
              "      <td>1736</td>\n",
              "      <td>648</td>\n",
              "      <td>0.79379</td>\n",
              "      <td>71</td>\n",
              "      <td>0.79379</td>\n",
              "      <td>2</td>\n",
              "      <td>7</td>\n",
              "      <td>4</td>\n",
              "    </tr>\n",
              "    <tr>\n",
              "      <th>3</th>\n",
              "      <td>0</td>\n",
              "      <td>0</td>\n",
              "      <td>0</td>\n",
              "      <td>0</td>\n",
              "      <td>1</td>\n",
              "      <td>0</td>\n",
              "      <td>1</td>\n",
              "      <td>0</td>\n",
              "      <td>0</td>\n",
              "      <td>0</td>\n",
              "      <td>...</td>\n",
              "      <td>-1</td>\n",
              "      <td>1.40580</td>\n",
              "      <td>1737</td>\n",
              "      <td>648</td>\n",
              "      <td>1.40580</td>\n",
              "      <td>37</td>\n",
              "      <td>1.40580</td>\n",
              "      <td>1</td>\n",
              "      <td>4</td>\n",
              "      <td>4</td>\n",
              "    </tr>\n",
              "    <tr>\n",
              "      <th>4</th>\n",
              "      <td>0</td>\n",
              "      <td>0</td>\n",
              "      <td>0</td>\n",
              "      <td>1</td>\n",
              "      <td>1</td>\n",
              "      <td>0</td>\n",
              "      <td>1</td>\n",
              "      <td>0</td>\n",
              "      <td>0</td>\n",
              "      <td>0</td>\n",
              "      <td>...</td>\n",
              "      <td>-1</td>\n",
              "      <td>0.89475</td>\n",
              "      <td>1738</td>\n",
              "      <td>648</td>\n",
              "      <td>0.89475</td>\n",
              "      <td>42</td>\n",
              "      <td>0.89475</td>\n",
              "      <td>2</td>\n",
              "      <td>4</td>\n",
              "      <td>4</td>\n",
              "    </tr>\n",
              "    <tr>\n",
              "      <th>...</th>\n",
              "      <td>...</td>\n",
              "      <td>...</td>\n",
              "      <td>...</td>\n",
              "      <td>...</td>\n",
              "      <td>...</td>\n",
              "      <td>...</td>\n",
              "      <td>...</td>\n",
              "      <td>...</td>\n",
              "      <td>...</td>\n",
              "      <td>...</td>\n",
              "      <td>...</td>\n",
              "      <td>...</td>\n",
              "      <td>...</td>\n",
              "      <td>...</td>\n",
              "      <td>...</td>\n",
              "      <td>...</td>\n",
              "      <td>...</td>\n",
              "      <td>...</td>\n",
              "      <td>...</td>\n",
              "      <td>...</td>\n",
              "      <td>...</td>\n",
              "    </tr>\n",
              "    <tr>\n",
              "      <th>1766</th>\n",
              "      <td>0</td>\n",
              "      <td>0</td>\n",
              "      <td>0</td>\n",
              "      <td>0</td>\n",
              "      <td>0</td>\n",
              "      <td>0</td>\n",
              "      <td>0</td>\n",
              "      <td>0</td>\n",
              "      <td>0</td>\n",
              "      <td>0</td>\n",
              "      <td>...</td>\n",
              "      <td>9</td>\n",
              "      <td>0.44339</td>\n",
              "      <td>3423</td>\n",
              "      <td>649</td>\n",
              "      <td>0.44339</td>\n",
              "      <td>39</td>\n",
              "      <td>0.44339</td>\n",
              "      <td>1</td>\n",
              "      <td>4</td>\n",
              "      <td>4</td>\n",
              "    </tr>\n",
              "    <tr>\n",
              "      <th>1767</th>\n",
              "      <td>0</td>\n",
              "      <td>0</td>\n",
              "      <td>0</td>\n",
              "      <td>0</td>\n",
              "      <td>0</td>\n",
              "      <td>0</td>\n",
              "      <td>0</td>\n",
              "      <td>0</td>\n",
              "      <td>0</td>\n",
              "      <td>0</td>\n",
              "      <td>...</td>\n",
              "      <td>9</td>\n",
              "      <td>0.44086</td>\n",
              "      <td>3425</td>\n",
              "      <td>649</td>\n",
              "      <td>0.44086</td>\n",
              "      <td>20</td>\n",
              "      <td>0.44086</td>\n",
              "      <td>3</td>\n",
              "      <td>2</td>\n",
              "      <td>4</td>\n",
              "    </tr>\n",
              "    <tr>\n",
              "      <th>1768</th>\n",
              "      <td>0</td>\n",
              "      <td>0</td>\n",
              "      <td>0</td>\n",
              "      <td>0</td>\n",
              "      <td>0</td>\n",
              "      <td>0</td>\n",
              "      <td>0</td>\n",
              "      <td>0</td>\n",
              "      <td>0</td>\n",
              "      <td>0</td>\n",
              "      <td>...</td>\n",
              "      <td>9</td>\n",
              "      <td>0.32590</td>\n",
              "      <td>3426</td>\n",
              "      <td>649</td>\n",
              "      <td>0.32590</td>\n",
              "      <td>31</td>\n",
              "      <td>0.32590</td>\n",
              "      <td>3</td>\n",
              "      <td>3</td>\n",
              "      <td>4</td>\n",
              "    </tr>\n",
              "    <tr>\n",
              "      <th>1769</th>\n",
              "      <td>0</td>\n",
              "      <td>0</td>\n",
              "      <td>0</td>\n",
              "      <td>0</td>\n",
              "      <td>0</td>\n",
              "      <td>0</td>\n",
              "      <td>0</td>\n",
              "      <td>0</td>\n",
              "      <td>0</td>\n",
              "      <td>0</td>\n",
              "      <td>...</td>\n",
              "      <td>9</td>\n",
              "      <td>0.66970</td>\n",
              "      <td>3427</td>\n",
              "      <td>649</td>\n",
              "      <td>0.66970</td>\n",
              "      <td>47</td>\n",
              "      <td>0.66970</td>\n",
              "      <td>4</td>\n",
              "      <td>5</td>\n",
              "      <td>4</td>\n",
              "    </tr>\n",
              "    <tr>\n",
              "      <th>1770</th>\n",
              "      <td>0</td>\n",
              "      <td>0</td>\n",
              "      <td>0</td>\n",
              "      <td>0</td>\n",
              "      <td>0</td>\n",
              "      <td>0</td>\n",
              "      <td>0</td>\n",
              "      <td>0</td>\n",
              "      <td>0</td>\n",
              "      <td>0</td>\n",
              "      <td>...</td>\n",
              "      <td>9</td>\n",
              "      <td>0.39478</td>\n",
              "      <td>3434</td>\n",
              "      <td>649</td>\n",
              "      <td>0.39478</td>\n",
              "      <td>25</td>\n",
              "      <td>0.39478</td>\n",
              "      <td>4</td>\n",
              "      <td>3</td>\n",
              "      <td>4</td>\n",
              "    </tr>\n",
              "  </tbody>\n",
              "</table>\n",
              "<p>1771 rows × 370 columns</p>\n",
              "</div>\n",
              "    <div class=\"colab-df-buttons\">\n",
              "\n",
              "  <div class=\"colab-df-container\">\n",
              "    <button class=\"colab-df-convert\" onclick=\"convertToInteractive('df-1783ec01-21ce-48e2-bd20-d23cae3e2607')\"\n",
              "            title=\"Convert this dataframe to an interactive table.\"\n",
              "            style=\"display:none;\">\n",
              "\n",
              "  <svg xmlns=\"http://www.w3.org/2000/svg\" height=\"24px\" viewBox=\"0 -960 960 960\">\n",
              "    <path d=\"M120-120v-720h720v720H120Zm60-500h600v-160H180v160Zm220 220h160v-160H400v160Zm0 220h160v-160H400v160ZM180-400h160v-160H180v160Zm440 0h160v-160H620v160ZM180-180h160v-160H180v160Zm440 0h160v-160H620v160Z\"/>\n",
              "  </svg>\n",
              "    </button>\n",
              "\n",
              "  <style>\n",
              "    .colab-df-container {\n",
              "      display:flex;\n",
              "      gap: 12px;\n",
              "    }\n",
              "\n",
              "    .colab-df-convert {\n",
              "      background-color: #E8F0FE;\n",
              "      border: none;\n",
              "      border-radius: 50%;\n",
              "      cursor: pointer;\n",
              "      display: none;\n",
              "      fill: #1967D2;\n",
              "      height: 32px;\n",
              "      padding: 0 0 0 0;\n",
              "      width: 32px;\n",
              "    }\n",
              "\n",
              "    .colab-df-convert:hover {\n",
              "      background-color: #E2EBFA;\n",
              "      box-shadow: 0px 1px 2px rgba(60, 64, 67, 0.3), 0px 1px 3px 1px rgba(60, 64, 67, 0.15);\n",
              "      fill: #174EA6;\n",
              "    }\n",
              "\n",
              "    .colab-df-buttons div {\n",
              "      margin-bottom: 4px;\n",
              "    }\n",
              "\n",
              "    [theme=dark] .colab-df-convert {\n",
              "      background-color: #3B4455;\n",
              "      fill: #D2E3FC;\n",
              "    }\n",
              "\n",
              "    [theme=dark] .colab-df-convert:hover {\n",
              "      background-color: #434B5C;\n",
              "      box-shadow: 0px 1px 3px 1px rgba(0, 0, 0, 0.15);\n",
              "      filter: drop-shadow(0px 1px 2px rgba(0, 0, 0, 0.3));\n",
              "      fill: #FFFFFF;\n",
              "    }\n",
              "  </style>\n",
              "\n",
              "    <script>\n",
              "      const buttonEl =\n",
              "        document.querySelector('#df-1783ec01-21ce-48e2-bd20-d23cae3e2607 button.colab-df-convert');\n",
              "      buttonEl.style.display =\n",
              "        google.colab.kernel.accessAllowed ? 'block' : 'none';\n",
              "\n",
              "      async function convertToInteractive(key) {\n",
              "        const element = document.querySelector('#df-1783ec01-21ce-48e2-bd20-d23cae3e2607');\n",
              "        const dataTable =\n",
              "          await google.colab.kernel.invokeFunction('convertToInteractive',\n",
              "                                                    [key], {});\n",
              "        if (!dataTable) return;\n",
              "\n",
              "        const docLinkHtml = 'Like what you see? Visit the ' +\n",
              "          '<a target=\"_blank\" href=https://colab.research.google.com/notebooks/data_table.ipynb>data table notebook</a>'\n",
              "          + ' to learn more about interactive tables.';\n",
              "        element.innerHTML = '';\n",
              "        dataTable['output_type'] = 'display_data';\n",
              "        await google.colab.output.renderOutput(dataTable, element);\n",
              "        const docLink = document.createElement('div');\n",
              "        docLink.innerHTML = docLinkHtml;\n",
              "        element.appendChild(docLink);\n",
              "      }\n",
              "    </script>\n",
              "  </div>\n",
              "\n",
              "\n",
              "    <div id=\"df-f8a6aeb2-a33a-4b11-8081-f71e77046e12\">\n",
              "      <button class=\"colab-df-quickchart\" onclick=\"quickchart('df-f8a6aeb2-a33a-4b11-8081-f71e77046e12')\"\n",
              "                title=\"Suggest charts\"\n",
              "                style=\"display:none;\">\n",
              "\n",
              "<svg xmlns=\"http://www.w3.org/2000/svg\" height=\"24px\"viewBox=\"0 0 24 24\"\n",
              "     width=\"24px\">\n",
              "    <g>\n",
              "        <path d=\"M19 3H5c-1.1 0-2 .9-2 2v14c0 1.1.9 2 2 2h14c1.1 0 2-.9 2-2V5c0-1.1-.9-2-2-2zM9 17H7v-7h2v7zm4 0h-2V7h2v10zm4 0h-2v-4h2v4z\"/>\n",
              "    </g>\n",
              "</svg>\n",
              "      </button>\n",
              "\n",
              "<style>\n",
              "  .colab-df-quickchart {\n",
              "      --bg-color: #E8F0FE;\n",
              "      --fill-color: #1967D2;\n",
              "      --hover-bg-color: #E2EBFA;\n",
              "      --hover-fill-color: #174EA6;\n",
              "      --disabled-fill-color: #AAA;\n",
              "      --disabled-bg-color: #DDD;\n",
              "  }\n",
              "\n",
              "  [theme=dark] .colab-df-quickchart {\n",
              "      --bg-color: #3B4455;\n",
              "      --fill-color: #D2E3FC;\n",
              "      --hover-bg-color: #434B5C;\n",
              "      --hover-fill-color: #FFFFFF;\n",
              "      --disabled-bg-color: #3B4455;\n",
              "      --disabled-fill-color: #666;\n",
              "  }\n",
              "\n",
              "  .colab-df-quickchart {\n",
              "    background-color: var(--bg-color);\n",
              "    border: none;\n",
              "    border-radius: 50%;\n",
              "    cursor: pointer;\n",
              "    display: none;\n",
              "    fill: var(--fill-color);\n",
              "    height: 32px;\n",
              "    padding: 0;\n",
              "    width: 32px;\n",
              "  }\n",
              "\n",
              "  .colab-df-quickchart:hover {\n",
              "    background-color: var(--hover-bg-color);\n",
              "    box-shadow: 0 1px 2px rgba(60, 64, 67, 0.3), 0 1px 3px 1px rgba(60, 64, 67, 0.15);\n",
              "    fill: var(--button-hover-fill-color);\n",
              "  }\n",
              "\n",
              "  .colab-df-quickchart-complete:disabled,\n",
              "  .colab-df-quickchart-complete:disabled:hover {\n",
              "    background-color: var(--disabled-bg-color);\n",
              "    fill: var(--disabled-fill-color);\n",
              "    box-shadow: none;\n",
              "  }\n",
              "\n",
              "  .colab-df-spinner {\n",
              "    border: 2px solid var(--fill-color);\n",
              "    border-color: transparent;\n",
              "    border-bottom-color: var(--fill-color);\n",
              "    animation:\n",
              "      spin 1s steps(1) infinite;\n",
              "  }\n",
              "\n",
              "  @keyframes spin {\n",
              "    0% {\n",
              "      border-color: transparent;\n",
              "      border-bottom-color: var(--fill-color);\n",
              "      border-left-color: var(--fill-color);\n",
              "    }\n",
              "    20% {\n",
              "      border-color: transparent;\n",
              "      border-left-color: var(--fill-color);\n",
              "      border-top-color: var(--fill-color);\n",
              "    }\n",
              "    30% {\n",
              "      border-color: transparent;\n",
              "      border-left-color: var(--fill-color);\n",
              "      border-top-color: var(--fill-color);\n",
              "      border-right-color: var(--fill-color);\n",
              "    }\n",
              "    40% {\n",
              "      border-color: transparent;\n",
              "      border-right-color: var(--fill-color);\n",
              "      border-top-color: var(--fill-color);\n",
              "    }\n",
              "    60% {\n",
              "      border-color: transparent;\n",
              "      border-right-color: var(--fill-color);\n",
              "    }\n",
              "    80% {\n",
              "      border-color: transparent;\n",
              "      border-right-color: var(--fill-color);\n",
              "      border-bottom-color: var(--fill-color);\n",
              "    }\n",
              "    90% {\n",
              "      border-color: transparent;\n",
              "      border-bottom-color: var(--fill-color);\n",
              "    }\n",
              "  }\n",
              "</style>\n",
              "\n",
              "      <script>\n",
              "        async function quickchart(key) {\n",
              "          const quickchartButtonEl =\n",
              "            document.querySelector('#' + key + ' button');\n",
              "          quickchartButtonEl.disabled = true;  // To prevent multiple clicks.\n",
              "          quickchartButtonEl.classList.add('colab-df-spinner');\n",
              "          try {\n",
              "            const charts = await google.colab.kernel.invokeFunction(\n",
              "                'suggestCharts', [key], {});\n",
              "          } catch (error) {\n",
              "            console.error('Error during call to suggestCharts:', error);\n",
              "          }\n",
              "          quickchartButtonEl.classList.remove('colab-df-spinner');\n",
              "          quickchartButtonEl.classList.add('colab-df-quickchart-complete');\n",
              "        }\n",
              "        (() => {\n",
              "          let quickchartButtonEl =\n",
              "            document.querySelector('#df-f8a6aeb2-a33a-4b11-8081-f71e77046e12 button');\n",
              "          quickchartButtonEl.style.display =\n",
              "            google.colab.kernel.accessAllowed ? 'block' : 'none';\n",
              "        })();\n",
              "      </script>\n",
              "    </div>\n",
              "\n",
              "  <div id=\"id_e088da49-e963-4dbf-8348-6a22e9e153ba\">\n",
              "    <style>\n",
              "      .colab-df-generate {\n",
              "        background-color: #E8F0FE;\n",
              "        border: none;\n",
              "        border-radius: 50%;\n",
              "        cursor: pointer;\n",
              "        display: none;\n",
              "        fill: #1967D2;\n",
              "        height: 32px;\n",
              "        padding: 0 0 0 0;\n",
              "        width: 32px;\n",
              "      }\n",
              "\n",
              "      .colab-df-generate:hover {\n",
              "        background-color: #E2EBFA;\n",
              "        box-shadow: 0px 1px 2px rgba(60, 64, 67, 0.3), 0px 1px 3px 1px rgba(60, 64, 67, 0.15);\n",
              "        fill: #174EA6;\n",
              "      }\n",
              "\n",
              "      [theme=dark] .colab-df-generate {\n",
              "        background-color: #3B4455;\n",
              "        fill: #D2E3FC;\n",
              "      }\n",
              "\n",
              "      [theme=dark] .colab-df-generate:hover {\n",
              "        background-color: #434B5C;\n",
              "        box-shadow: 0px 1px 3px 1px rgba(0, 0, 0, 0.15);\n",
              "        filter: drop-shadow(0px 1px 2px rgba(0, 0, 0, 0.3));\n",
              "        fill: #FFFFFF;\n",
              "      }\n",
              "    </style>\n",
              "    <button class=\"colab-df-generate\" onclick=\"generateWithVariable('data_raw')\"\n",
              "            title=\"Generate code using this dataframe.\"\n",
              "            style=\"display:none;\">\n",
              "\n",
              "  <svg xmlns=\"http://www.w3.org/2000/svg\" height=\"24px\"viewBox=\"0 0 24 24\"\n",
              "       width=\"24px\">\n",
              "    <path d=\"M7,19H8.4L18.45,9,17,7.55,7,17.6ZM5,21V16.75L18.45,3.32a2,2,0,0,1,2.83,0l1.4,1.43a1.91,1.91,0,0,1,.58,1.4,1.91,1.91,0,0,1-.58,1.4L9.25,21ZM18.45,9,17,7.55Zm-12,3A5.31,5.31,0,0,0,4.9,8.1,5.31,5.31,0,0,0,1,6.5,5.31,5.31,0,0,0,4.9,4.9,5.31,5.31,0,0,0,6.5,1,5.31,5.31,0,0,0,8.1,4.9,5.31,5.31,0,0,0,12,6.5,5.46,5.46,0,0,0,6.5,12Z\"/>\n",
              "  </svg>\n",
              "    </button>\n",
              "    <script>\n",
              "      (() => {\n",
              "      const buttonEl =\n",
              "        document.querySelector('#id_e088da49-e963-4dbf-8348-6a22e9e153ba button.colab-df-generate');\n",
              "      buttonEl.style.display =\n",
              "        google.colab.kernel.accessAllowed ? 'block' : 'none';\n",
              "\n",
              "      buttonEl.onclick = () => {\n",
              "        google.colab.notebook.generateWithVariable('data_raw');\n",
              "      }\n",
              "      })();\n",
              "    </script>\n",
              "  </div>\n",
              "\n",
              "    </div>\n",
              "  </div>\n"
            ],
            "application/vnd.google.colaboratory.intrinsic+json": {
              "type": "dataframe",
              "variable_name": "data_raw"
            }
          },
          "metadata": {},
          "execution_count": 4
        }
      ],
      "source": [
        "data_raw"
      ]
    },
    {
      "cell_type": "markdown",
      "metadata": {
        "id": "DvJwVB7qJ6YX"
      },
      "source": [
        "Typically, one would start by looking the first lines, using:"
      ]
    },
    {
      "cell_type": "code",
      "execution_count": 5,
      "metadata": {
        "colab": {
          "base_uri": "https://localhost:8080/",
          "height": 256
        },
        "id": "75gXc8cXJ5gY",
        "outputId": "d348902c-656d-4d74-c765-69e3f2486bbe"
      },
      "outputs": [
        {
          "output_type": "execute_result",
          "data": {
            "text/plain": [
              "   cu041  cu042  cu043  cu044  cu045  cu046  cu047  cu048  cu049  cu0410  ...  \\\n",
              "0      0      0      0      0      1      1      0      0      0       0  ...   \n",
              "1      0      0      0      0      0      0      0      0      0       1  ...   \n",
              "2      0      0      0      0      1      0      0      0      0       0  ...   \n",
              "3      0      0      0      0      1      0      1      0      0       0  ...   \n",
              "4      0      0      0      1      1      0      1      0      0       0  ...   \n",
              "\n",
              "   intten  cx_971_980  serial  week      wts  numage  weight0  sgrade_grp  \\\n",
              "0      -1     3.41659    1399   648  3.41659      37  3.41659           1   \n",
              "1      -1     2.68198    1733   648  2.68198      55  2.68198           2   \n",
              "2      -1     0.79379    1736   648  0.79379      71  0.79379           2   \n",
              "3      -1     1.40580    1737   648  1.40580      37  1.40580           1   \n",
              "4      -1     0.89475    1738   648  0.89475      42  0.89475           2   \n",
              "\n",
              "   age_grp  region2  \n",
              "0        4        3  \n",
              "1        6        3  \n",
              "2        7        4  \n",
              "3        4        4  \n",
              "4        4        4  \n",
              "\n",
              "[5 rows x 370 columns]"
            ],
            "text/html": [
              "\n",
              "  <div id=\"df-59f68087-d136-4c9a-8196-99998c7b2df8\" class=\"colab-df-container\">\n",
              "    <div>\n",
              "<style scoped>\n",
              "    .dataframe tbody tr th:only-of-type {\n",
              "        vertical-align: middle;\n",
              "    }\n",
              "\n",
              "    .dataframe tbody tr th {\n",
              "        vertical-align: top;\n",
              "    }\n",
              "\n",
              "    .dataframe thead th {\n",
              "        text-align: right;\n",
              "    }\n",
              "</style>\n",
              "<table border=\"1\" class=\"dataframe\">\n",
              "  <thead>\n",
              "    <tr style=\"text-align: right;\">\n",
              "      <th></th>\n",
              "      <th>cu041</th>\n",
              "      <th>cu042</th>\n",
              "      <th>cu043</th>\n",
              "      <th>cu044</th>\n",
              "      <th>cu045</th>\n",
              "      <th>cu046</th>\n",
              "      <th>cu047</th>\n",
              "      <th>cu048</th>\n",
              "      <th>cu049</th>\n",
              "      <th>cu0410</th>\n",
              "      <th>...</th>\n",
              "      <th>intten</th>\n",
              "      <th>cx_971_980</th>\n",
              "      <th>serial</th>\n",
              "      <th>week</th>\n",
              "      <th>wts</th>\n",
              "      <th>numage</th>\n",
              "      <th>weight0</th>\n",
              "      <th>sgrade_grp</th>\n",
              "      <th>age_grp</th>\n",
              "      <th>region2</th>\n",
              "    </tr>\n",
              "  </thead>\n",
              "  <tbody>\n",
              "    <tr>\n",
              "      <th>0</th>\n",
              "      <td>0</td>\n",
              "      <td>0</td>\n",
              "      <td>0</td>\n",
              "      <td>0</td>\n",
              "      <td>1</td>\n",
              "      <td>1</td>\n",
              "      <td>0</td>\n",
              "      <td>0</td>\n",
              "      <td>0</td>\n",
              "      <td>0</td>\n",
              "      <td>...</td>\n",
              "      <td>-1</td>\n",
              "      <td>3.41659</td>\n",
              "      <td>1399</td>\n",
              "      <td>648</td>\n",
              "      <td>3.41659</td>\n",
              "      <td>37</td>\n",
              "      <td>3.41659</td>\n",
              "      <td>1</td>\n",
              "      <td>4</td>\n",
              "      <td>3</td>\n",
              "    </tr>\n",
              "    <tr>\n",
              "      <th>1</th>\n",
              "      <td>0</td>\n",
              "      <td>0</td>\n",
              "      <td>0</td>\n",
              "      <td>0</td>\n",
              "      <td>0</td>\n",
              "      <td>0</td>\n",
              "      <td>0</td>\n",
              "      <td>0</td>\n",
              "      <td>0</td>\n",
              "      <td>1</td>\n",
              "      <td>...</td>\n",
              "      <td>-1</td>\n",
              "      <td>2.68198</td>\n",
              "      <td>1733</td>\n",
              "      <td>648</td>\n",
              "      <td>2.68198</td>\n",
              "      <td>55</td>\n",
              "      <td>2.68198</td>\n",
              "      <td>2</td>\n",
              "      <td>6</td>\n",
              "      <td>3</td>\n",
              "    </tr>\n",
              "    <tr>\n",
              "      <th>2</th>\n",
              "      <td>0</td>\n",
              "      <td>0</td>\n",
              "      <td>0</td>\n",
              "      <td>0</td>\n",
              "      <td>1</td>\n",
              "      <td>0</td>\n",
              "      <td>0</td>\n",
              "      <td>0</td>\n",
              "      <td>0</td>\n",
              "      <td>0</td>\n",
              "      <td>...</td>\n",
              "      <td>-1</td>\n",
              "      <td>0.79379</td>\n",
              "      <td>1736</td>\n",
              "      <td>648</td>\n",
              "      <td>0.79379</td>\n",
              "      <td>71</td>\n",
              "      <td>0.79379</td>\n",
              "      <td>2</td>\n",
              "      <td>7</td>\n",
              "      <td>4</td>\n",
              "    </tr>\n",
              "    <tr>\n",
              "      <th>3</th>\n",
              "      <td>0</td>\n",
              "      <td>0</td>\n",
              "      <td>0</td>\n",
              "      <td>0</td>\n",
              "      <td>1</td>\n",
              "      <td>0</td>\n",
              "      <td>1</td>\n",
              "      <td>0</td>\n",
              "      <td>0</td>\n",
              "      <td>0</td>\n",
              "      <td>...</td>\n",
              "      <td>-1</td>\n",
              "      <td>1.40580</td>\n",
              "      <td>1737</td>\n",
              "      <td>648</td>\n",
              "      <td>1.40580</td>\n",
              "      <td>37</td>\n",
              "      <td>1.40580</td>\n",
              "      <td>1</td>\n",
              "      <td>4</td>\n",
              "      <td>4</td>\n",
              "    </tr>\n",
              "    <tr>\n",
              "      <th>4</th>\n",
              "      <td>0</td>\n",
              "      <td>0</td>\n",
              "      <td>0</td>\n",
              "      <td>1</td>\n",
              "      <td>1</td>\n",
              "      <td>0</td>\n",
              "      <td>1</td>\n",
              "      <td>0</td>\n",
              "      <td>0</td>\n",
              "      <td>0</td>\n",
              "      <td>...</td>\n",
              "      <td>-1</td>\n",
              "      <td>0.89475</td>\n",
              "      <td>1738</td>\n",
              "      <td>648</td>\n",
              "      <td>0.89475</td>\n",
              "      <td>42</td>\n",
              "      <td>0.89475</td>\n",
              "      <td>2</td>\n",
              "      <td>4</td>\n",
              "      <td>4</td>\n",
              "    </tr>\n",
              "  </tbody>\n",
              "</table>\n",
              "<p>5 rows × 370 columns</p>\n",
              "</div>\n",
              "    <div class=\"colab-df-buttons\">\n",
              "\n",
              "  <div class=\"colab-df-container\">\n",
              "    <button class=\"colab-df-convert\" onclick=\"convertToInteractive('df-59f68087-d136-4c9a-8196-99998c7b2df8')\"\n",
              "            title=\"Convert this dataframe to an interactive table.\"\n",
              "            style=\"display:none;\">\n",
              "\n",
              "  <svg xmlns=\"http://www.w3.org/2000/svg\" height=\"24px\" viewBox=\"0 -960 960 960\">\n",
              "    <path d=\"M120-120v-720h720v720H120Zm60-500h600v-160H180v160Zm220 220h160v-160H400v160Zm0 220h160v-160H400v160ZM180-400h160v-160H180v160Zm440 0h160v-160H620v160ZM180-180h160v-160H180v160Zm440 0h160v-160H620v160Z\"/>\n",
              "  </svg>\n",
              "    </button>\n",
              "\n",
              "  <style>\n",
              "    .colab-df-container {\n",
              "      display:flex;\n",
              "      gap: 12px;\n",
              "    }\n",
              "\n",
              "    .colab-df-convert {\n",
              "      background-color: #E8F0FE;\n",
              "      border: none;\n",
              "      border-radius: 50%;\n",
              "      cursor: pointer;\n",
              "      display: none;\n",
              "      fill: #1967D2;\n",
              "      height: 32px;\n",
              "      padding: 0 0 0 0;\n",
              "      width: 32px;\n",
              "    }\n",
              "\n",
              "    .colab-df-convert:hover {\n",
              "      background-color: #E2EBFA;\n",
              "      box-shadow: 0px 1px 2px rgba(60, 64, 67, 0.3), 0px 1px 3px 1px rgba(60, 64, 67, 0.15);\n",
              "      fill: #174EA6;\n",
              "    }\n",
              "\n",
              "    .colab-df-buttons div {\n",
              "      margin-bottom: 4px;\n",
              "    }\n",
              "\n",
              "    [theme=dark] .colab-df-convert {\n",
              "      background-color: #3B4455;\n",
              "      fill: #D2E3FC;\n",
              "    }\n",
              "\n",
              "    [theme=dark] .colab-df-convert:hover {\n",
              "      background-color: #434B5C;\n",
              "      box-shadow: 0px 1px 3px 1px rgba(0, 0, 0, 0.15);\n",
              "      filter: drop-shadow(0px 1px 2px rgba(0, 0, 0, 0.3));\n",
              "      fill: #FFFFFF;\n",
              "    }\n",
              "  </style>\n",
              "\n",
              "    <script>\n",
              "      const buttonEl =\n",
              "        document.querySelector('#df-59f68087-d136-4c9a-8196-99998c7b2df8 button.colab-df-convert');\n",
              "      buttonEl.style.display =\n",
              "        google.colab.kernel.accessAllowed ? 'block' : 'none';\n",
              "\n",
              "      async function convertToInteractive(key) {\n",
              "        const element = document.querySelector('#df-59f68087-d136-4c9a-8196-99998c7b2df8');\n",
              "        const dataTable =\n",
              "          await google.colab.kernel.invokeFunction('convertToInteractive',\n",
              "                                                    [key], {});\n",
              "        if (!dataTable) return;\n",
              "\n",
              "        const docLinkHtml = 'Like what you see? Visit the ' +\n",
              "          '<a target=\"_blank\" href=https://colab.research.google.com/notebooks/data_table.ipynb>data table notebook</a>'\n",
              "          + ' to learn more about interactive tables.';\n",
              "        element.innerHTML = '';\n",
              "        dataTable['output_type'] = 'display_data';\n",
              "        await google.colab.output.renderOutput(dataTable, element);\n",
              "        const docLink = document.createElement('div');\n",
              "        docLink.innerHTML = docLinkHtml;\n",
              "        element.appendChild(docLink);\n",
              "      }\n",
              "    </script>\n",
              "  </div>\n",
              "\n",
              "\n",
              "    <div id=\"df-22c1b655-4339-4c98-be4e-8f4044b00e08\">\n",
              "      <button class=\"colab-df-quickchart\" onclick=\"quickchart('df-22c1b655-4339-4c98-be4e-8f4044b00e08')\"\n",
              "                title=\"Suggest charts\"\n",
              "                style=\"display:none;\">\n",
              "\n",
              "<svg xmlns=\"http://www.w3.org/2000/svg\" height=\"24px\"viewBox=\"0 0 24 24\"\n",
              "     width=\"24px\">\n",
              "    <g>\n",
              "        <path d=\"M19 3H5c-1.1 0-2 .9-2 2v14c0 1.1.9 2 2 2h14c1.1 0 2-.9 2-2V5c0-1.1-.9-2-2-2zM9 17H7v-7h2v7zm4 0h-2V7h2v10zm4 0h-2v-4h2v4z\"/>\n",
              "    </g>\n",
              "</svg>\n",
              "      </button>\n",
              "\n",
              "<style>\n",
              "  .colab-df-quickchart {\n",
              "      --bg-color: #E8F0FE;\n",
              "      --fill-color: #1967D2;\n",
              "      --hover-bg-color: #E2EBFA;\n",
              "      --hover-fill-color: #174EA6;\n",
              "      --disabled-fill-color: #AAA;\n",
              "      --disabled-bg-color: #DDD;\n",
              "  }\n",
              "\n",
              "  [theme=dark] .colab-df-quickchart {\n",
              "      --bg-color: #3B4455;\n",
              "      --fill-color: #D2E3FC;\n",
              "      --hover-bg-color: #434B5C;\n",
              "      --hover-fill-color: #FFFFFF;\n",
              "      --disabled-bg-color: #3B4455;\n",
              "      --disabled-fill-color: #666;\n",
              "  }\n",
              "\n",
              "  .colab-df-quickchart {\n",
              "    background-color: var(--bg-color);\n",
              "    border: none;\n",
              "    border-radius: 50%;\n",
              "    cursor: pointer;\n",
              "    display: none;\n",
              "    fill: var(--fill-color);\n",
              "    height: 32px;\n",
              "    padding: 0;\n",
              "    width: 32px;\n",
              "  }\n",
              "\n",
              "  .colab-df-quickchart:hover {\n",
              "    background-color: var(--hover-bg-color);\n",
              "    box-shadow: 0 1px 2px rgba(60, 64, 67, 0.3), 0 1px 3px 1px rgba(60, 64, 67, 0.15);\n",
              "    fill: var(--button-hover-fill-color);\n",
              "  }\n",
              "\n",
              "  .colab-df-quickchart-complete:disabled,\n",
              "  .colab-df-quickchart-complete:disabled:hover {\n",
              "    background-color: var(--disabled-bg-color);\n",
              "    fill: var(--disabled-fill-color);\n",
              "    box-shadow: none;\n",
              "  }\n",
              "\n",
              "  .colab-df-spinner {\n",
              "    border: 2px solid var(--fill-color);\n",
              "    border-color: transparent;\n",
              "    border-bottom-color: var(--fill-color);\n",
              "    animation:\n",
              "      spin 1s steps(1) infinite;\n",
              "  }\n",
              "\n",
              "  @keyframes spin {\n",
              "    0% {\n",
              "      border-color: transparent;\n",
              "      border-bottom-color: var(--fill-color);\n",
              "      border-left-color: var(--fill-color);\n",
              "    }\n",
              "    20% {\n",
              "      border-color: transparent;\n",
              "      border-left-color: var(--fill-color);\n",
              "      border-top-color: var(--fill-color);\n",
              "    }\n",
              "    30% {\n",
              "      border-color: transparent;\n",
              "      border-left-color: var(--fill-color);\n",
              "      border-top-color: var(--fill-color);\n",
              "      border-right-color: var(--fill-color);\n",
              "    }\n",
              "    40% {\n",
              "      border-color: transparent;\n",
              "      border-right-color: var(--fill-color);\n",
              "      border-top-color: var(--fill-color);\n",
              "    }\n",
              "    60% {\n",
              "      border-color: transparent;\n",
              "      border-right-color: var(--fill-color);\n",
              "    }\n",
              "    80% {\n",
              "      border-color: transparent;\n",
              "      border-right-color: var(--fill-color);\n",
              "      border-bottom-color: var(--fill-color);\n",
              "    }\n",
              "    90% {\n",
              "      border-color: transparent;\n",
              "      border-bottom-color: var(--fill-color);\n",
              "    }\n",
              "  }\n",
              "</style>\n",
              "\n",
              "      <script>\n",
              "        async function quickchart(key) {\n",
              "          const quickchartButtonEl =\n",
              "            document.querySelector('#' + key + ' button');\n",
              "          quickchartButtonEl.disabled = true;  // To prevent multiple clicks.\n",
              "          quickchartButtonEl.classList.add('colab-df-spinner');\n",
              "          try {\n",
              "            const charts = await google.colab.kernel.invokeFunction(\n",
              "                'suggestCharts', [key], {});\n",
              "          } catch (error) {\n",
              "            console.error('Error during call to suggestCharts:', error);\n",
              "          }\n",
              "          quickchartButtonEl.classList.remove('colab-df-spinner');\n",
              "          quickchartButtonEl.classList.add('colab-df-quickchart-complete');\n",
              "        }\n",
              "        (() => {\n",
              "          let quickchartButtonEl =\n",
              "            document.querySelector('#df-22c1b655-4339-4c98-be4e-8f4044b00e08 button');\n",
              "          quickchartButtonEl.style.display =\n",
              "            google.colab.kernel.accessAllowed ? 'block' : 'none';\n",
              "        })();\n",
              "      </script>\n",
              "    </div>\n",
              "\n",
              "    </div>\n",
              "  </div>\n"
            ],
            "application/vnd.google.colaboratory.intrinsic+json": {
              "type": "dataframe",
              "variable_name": "data_raw"
            }
          },
          "metadata": {},
          "execution_count": 5
        }
      ],
      "source": [
        "data_raw.head()"
      ]
    },
    {
      "cell_type": "markdown",
      "metadata": {
        "id": "v5Ayjvy2K6pA"
      },
      "source": [
        "Another useful pandas tool is `describe`, that is used to generate descriptive statistics of the data in a Pandas DataFrame\n"
      ]
    },
    {
      "cell_type": "code",
      "execution_count": 6,
      "metadata": {
        "colab": {
          "base_uri": "https://localhost:8080/",
          "height": 350
        },
        "id": "ZtJqGq_0LBhX",
        "outputId": "94146030-c742-4a15-f730-698880b18146"
      },
      "outputs": [
        {
          "output_type": "execute_result",
          "data": {
            "text/plain": [
              "             cu041        cu042        cu043        cu044        cu045  \\\n",
              "count  1771.000000  1771.000000  1771.000000  1771.000000  1771.000000   \n",
              "mean      0.119706     0.038396     0.063241     0.122530     0.231508   \n",
              "std       0.324710     0.192206     0.243465     0.327989     0.421915   \n",
              "min       0.000000     0.000000     0.000000     0.000000     0.000000   \n",
              "25%       0.000000     0.000000     0.000000     0.000000     0.000000   \n",
              "50%       0.000000     0.000000     0.000000     0.000000     0.000000   \n",
              "75%       0.000000     0.000000     0.000000     0.000000     0.000000   \n",
              "max       1.000000     1.000000     1.000000     1.000000     1.000000   \n",
              "\n",
              "             cu046        cu047        cu048        cu049       cu0410  ...  \\\n",
              "count  1771.000000  1771.000000  1771.000000  1771.000000  1771.000000  ...   \n",
              "mean      0.189723     0.104461     0.040090     0.058159     0.041784  ...   \n",
              "std       0.392193     0.305944     0.196227     0.234110     0.200152  ...   \n",
              "min       0.000000     0.000000     0.000000     0.000000     0.000000  ...   \n",
              "25%       0.000000     0.000000     0.000000     0.000000     0.000000  ...   \n",
              "50%       0.000000     0.000000     0.000000     0.000000     0.000000  ...   \n",
              "75%       0.000000     0.000000     0.000000     0.000000     0.000000  ...   \n",
              "max       1.000000     1.000000     1.000000     1.000000     1.000000  ...   \n",
              "\n",
              "            intten   cx_971_980       serial         week          wts  \\\n",
              "count  1771.000000  1771.000000  1771.000000  1771.000000  1771.000000   \n",
              "mean      1.102767     1.000000  2591.394692   648.252964     1.000000   \n",
              "std       3.969324     0.772496   576.149480     0.434834     0.772496   \n",
              "min      -1.000000     0.068530  1012.000000   648.000000     0.068530   \n",
              "25%      -1.000000     0.483895  2183.000000   648.000000     0.483895   \n",
              "50%      -1.000000     0.801870  2624.000000   648.000000     0.801870   \n",
              "75%      -1.000000     1.279665  3067.500000   649.000000     1.279665   \n",
              "max      10.000000     6.669790  3495.000000   649.000000     6.669790   \n",
              "\n",
              "            numage      weight0   sgrade_grp      age_grp      region2  \n",
              "count  1771.000000  1771.000000  1771.000000  1771.000000  1771.000000  \n",
              "mean     46.421231     1.000000     2.429701     4.670243     4.006211  \n",
              "std      18.625718     0.772496     1.101616     1.848105     1.626568  \n",
              "min       0.000000     0.068530     1.000000     1.000000     1.000000  \n",
              "25%      31.000000     0.483895     2.000000     3.000000     3.000000  \n",
              "50%      45.000000     0.801870     2.000000     5.000000     4.000000  \n",
              "75%      61.500000     1.279665     3.000000     6.000000     5.000000  \n",
              "max      92.000000     6.669790     4.000000     8.000000     6.000000  \n",
              "\n",
              "[8 rows x 370 columns]"
            ],
            "text/html": [
              "\n",
              "  <div id=\"df-5fff385e-1351-4b79-b54e-a4b18c9f3d62\" class=\"colab-df-container\">\n",
              "    <div>\n",
              "<style scoped>\n",
              "    .dataframe tbody tr th:only-of-type {\n",
              "        vertical-align: middle;\n",
              "    }\n",
              "\n",
              "    .dataframe tbody tr th {\n",
              "        vertical-align: top;\n",
              "    }\n",
              "\n",
              "    .dataframe thead th {\n",
              "        text-align: right;\n",
              "    }\n",
              "</style>\n",
              "<table border=\"1\" class=\"dataframe\">\n",
              "  <thead>\n",
              "    <tr style=\"text-align: right;\">\n",
              "      <th></th>\n",
              "      <th>cu041</th>\n",
              "      <th>cu042</th>\n",
              "      <th>cu043</th>\n",
              "      <th>cu044</th>\n",
              "      <th>cu045</th>\n",
              "      <th>cu046</th>\n",
              "      <th>cu047</th>\n",
              "      <th>cu048</th>\n",
              "      <th>cu049</th>\n",
              "      <th>cu0410</th>\n",
              "      <th>...</th>\n",
              "      <th>intten</th>\n",
              "      <th>cx_971_980</th>\n",
              "      <th>serial</th>\n",
              "      <th>week</th>\n",
              "      <th>wts</th>\n",
              "      <th>numage</th>\n",
              "      <th>weight0</th>\n",
              "      <th>sgrade_grp</th>\n",
              "      <th>age_grp</th>\n",
              "      <th>region2</th>\n",
              "    </tr>\n",
              "  </thead>\n",
              "  <tbody>\n",
              "    <tr>\n",
              "      <th>count</th>\n",
              "      <td>1771.000000</td>\n",
              "      <td>1771.000000</td>\n",
              "      <td>1771.000000</td>\n",
              "      <td>1771.000000</td>\n",
              "      <td>1771.000000</td>\n",
              "      <td>1771.000000</td>\n",
              "      <td>1771.000000</td>\n",
              "      <td>1771.000000</td>\n",
              "      <td>1771.000000</td>\n",
              "      <td>1771.000000</td>\n",
              "      <td>...</td>\n",
              "      <td>1771.000000</td>\n",
              "      <td>1771.000000</td>\n",
              "      <td>1771.000000</td>\n",
              "      <td>1771.000000</td>\n",
              "      <td>1771.000000</td>\n",
              "      <td>1771.000000</td>\n",
              "      <td>1771.000000</td>\n",
              "      <td>1771.000000</td>\n",
              "      <td>1771.000000</td>\n",
              "      <td>1771.000000</td>\n",
              "    </tr>\n",
              "    <tr>\n",
              "      <th>mean</th>\n",
              "      <td>0.119706</td>\n",
              "      <td>0.038396</td>\n",
              "      <td>0.063241</td>\n",
              "      <td>0.122530</td>\n",
              "      <td>0.231508</td>\n",
              "      <td>0.189723</td>\n",
              "      <td>0.104461</td>\n",
              "      <td>0.040090</td>\n",
              "      <td>0.058159</td>\n",
              "      <td>0.041784</td>\n",
              "      <td>...</td>\n",
              "      <td>1.102767</td>\n",
              "      <td>1.000000</td>\n",
              "      <td>2591.394692</td>\n",
              "      <td>648.252964</td>\n",
              "      <td>1.000000</td>\n",
              "      <td>46.421231</td>\n",
              "      <td>1.000000</td>\n",
              "      <td>2.429701</td>\n",
              "      <td>4.670243</td>\n",
              "      <td>4.006211</td>\n",
              "    </tr>\n",
              "    <tr>\n",
              "      <th>std</th>\n",
              "      <td>0.324710</td>\n",
              "      <td>0.192206</td>\n",
              "      <td>0.243465</td>\n",
              "      <td>0.327989</td>\n",
              "      <td>0.421915</td>\n",
              "      <td>0.392193</td>\n",
              "      <td>0.305944</td>\n",
              "      <td>0.196227</td>\n",
              "      <td>0.234110</td>\n",
              "      <td>0.200152</td>\n",
              "      <td>...</td>\n",
              "      <td>3.969324</td>\n",
              "      <td>0.772496</td>\n",
              "      <td>576.149480</td>\n",
              "      <td>0.434834</td>\n",
              "      <td>0.772496</td>\n",
              "      <td>18.625718</td>\n",
              "      <td>0.772496</td>\n",
              "      <td>1.101616</td>\n",
              "      <td>1.848105</td>\n",
              "      <td>1.626568</td>\n",
              "    </tr>\n",
              "    <tr>\n",
              "      <th>min</th>\n",
              "      <td>0.000000</td>\n",
              "      <td>0.000000</td>\n",
              "      <td>0.000000</td>\n",
              "      <td>0.000000</td>\n",
              "      <td>0.000000</td>\n",
              "      <td>0.000000</td>\n",
              "      <td>0.000000</td>\n",
              "      <td>0.000000</td>\n",
              "      <td>0.000000</td>\n",
              "      <td>0.000000</td>\n",
              "      <td>...</td>\n",
              "      <td>-1.000000</td>\n",
              "      <td>0.068530</td>\n",
              "      <td>1012.000000</td>\n",
              "      <td>648.000000</td>\n",
              "      <td>0.068530</td>\n",
              "      <td>0.000000</td>\n",
              "      <td>0.068530</td>\n",
              "      <td>1.000000</td>\n",
              "      <td>1.000000</td>\n",
              "      <td>1.000000</td>\n",
              "    </tr>\n",
              "    <tr>\n",
              "      <th>25%</th>\n",
              "      <td>0.000000</td>\n",
              "      <td>0.000000</td>\n",
              "      <td>0.000000</td>\n",
              "      <td>0.000000</td>\n",
              "      <td>0.000000</td>\n",
              "      <td>0.000000</td>\n",
              "      <td>0.000000</td>\n",
              "      <td>0.000000</td>\n",
              "      <td>0.000000</td>\n",
              "      <td>0.000000</td>\n",
              "      <td>...</td>\n",
              "      <td>-1.000000</td>\n",
              "      <td>0.483895</td>\n",
              "      <td>2183.000000</td>\n",
              "      <td>648.000000</td>\n",
              "      <td>0.483895</td>\n",
              "      <td>31.000000</td>\n",
              "      <td>0.483895</td>\n",
              "      <td>2.000000</td>\n",
              "      <td>3.000000</td>\n",
              "      <td>3.000000</td>\n",
              "    </tr>\n",
              "    <tr>\n",
              "      <th>50%</th>\n",
              "      <td>0.000000</td>\n",
              "      <td>0.000000</td>\n",
              "      <td>0.000000</td>\n",
              "      <td>0.000000</td>\n",
              "      <td>0.000000</td>\n",
              "      <td>0.000000</td>\n",
              "      <td>0.000000</td>\n",
              "      <td>0.000000</td>\n",
              "      <td>0.000000</td>\n",
              "      <td>0.000000</td>\n",
              "      <td>...</td>\n",
              "      <td>-1.000000</td>\n",
              "      <td>0.801870</td>\n",
              "      <td>2624.000000</td>\n",
              "      <td>648.000000</td>\n",
              "      <td>0.801870</td>\n",
              "      <td>45.000000</td>\n",
              "      <td>0.801870</td>\n",
              "      <td>2.000000</td>\n",
              "      <td>5.000000</td>\n",
              "      <td>4.000000</td>\n",
              "    </tr>\n",
              "    <tr>\n",
              "      <th>75%</th>\n",
              "      <td>0.000000</td>\n",
              "      <td>0.000000</td>\n",
              "      <td>0.000000</td>\n",
              "      <td>0.000000</td>\n",
              "      <td>0.000000</td>\n",
              "      <td>0.000000</td>\n",
              "      <td>0.000000</td>\n",
              "      <td>0.000000</td>\n",
              "      <td>0.000000</td>\n",
              "      <td>0.000000</td>\n",
              "      <td>...</td>\n",
              "      <td>-1.000000</td>\n",
              "      <td>1.279665</td>\n",
              "      <td>3067.500000</td>\n",
              "      <td>649.000000</td>\n",
              "      <td>1.279665</td>\n",
              "      <td>61.500000</td>\n",
              "      <td>1.279665</td>\n",
              "      <td>3.000000</td>\n",
              "      <td>6.000000</td>\n",
              "      <td>5.000000</td>\n",
              "    </tr>\n",
              "    <tr>\n",
              "      <th>max</th>\n",
              "      <td>1.000000</td>\n",
              "      <td>1.000000</td>\n",
              "      <td>1.000000</td>\n",
              "      <td>1.000000</td>\n",
              "      <td>1.000000</td>\n",
              "      <td>1.000000</td>\n",
              "      <td>1.000000</td>\n",
              "      <td>1.000000</td>\n",
              "      <td>1.000000</td>\n",
              "      <td>1.000000</td>\n",
              "      <td>...</td>\n",
              "      <td>10.000000</td>\n",
              "      <td>6.669790</td>\n",
              "      <td>3495.000000</td>\n",
              "      <td>649.000000</td>\n",
              "      <td>6.669790</td>\n",
              "      <td>92.000000</td>\n",
              "      <td>6.669790</td>\n",
              "      <td>4.000000</td>\n",
              "      <td>8.000000</td>\n",
              "      <td>6.000000</td>\n",
              "    </tr>\n",
              "  </tbody>\n",
              "</table>\n",
              "<p>8 rows × 370 columns</p>\n",
              "</div>\n",
              "    <div class=\"colab-df-buttons\">\n",
              "\n",
              "  <div class=\"colab-df-container\">\n",
              "    <button class=\"colab-df-convert\" onclick=\"convertToInteractive('df-5fff385e-1351-4b79-b54e-a4b18c9f3d62')\"\n",
              "            title=\"Convert this dataframe to an interactive table.\"\n",
              "            style=\"display:none;\">\n",
              "\n",
              "  <svg xmlns=\"http://www.w3.org/2000/svg\" height=\"24px\" viewBox=\"0 -960 960 960\">\n",
              "    <path d=\"M120-120v-720h720v720H120Zm60-500h600v-160H180v160Zm220 220h160v-160H400v160Zm0 220h160v-160H400v160ZM180-400h160v-160H180v160Zm440 0h160v-160H620v160ZM180-180h160v-160H180v160Zm440 0h160v-160H620v160Z\"/>\n",
              "  </svg>\n",
              "    </button>\n",
              "\n",
              "  <style>\n",
              "    .colab-df-container {\n",
              "      display:flex;\n",
              "      gap: 12px;\n",
              "    }\n",
              "\n",
              "    .colab-df-convert {\n",
              "      background-color: #E8F0FE;\n",
              "      border: none;\n",
              "      border-radius: 50%;\n",
              "      cursor: pointer;\n",
              "      display: none;\n",
              "      fill: #1967D2;\n",
              "      height: 32px;\n",
              "      padding: 0 0 0 0;\n",
              "      width: 32px;\n",
              "    }\n",
              "\n",
              "    .colab-df-convert:hover {\n",
              "      background-color: #E2EBFA;\n",
              "      box-shadow: 0px 1px 2px rgba(60, 64, 67, 0.3), 0px 1px 3px 1px rgba(60, 64, 67, 0.15);\n",
              "      fill: #174EA6;\n",
              "    }\n",
              "\n",
              "    .colab-df-buttons div {\n",
              "      margin-bottom: 4px;\n",
              "    }\n",
              "\n",
              "    [theme=dark] .colab-df-convert {\n",
              "      background-color: #3B4455;\n",
              "      fill: #D2E3FC;\n",
              "    }\n",
              "\n",
              "    [theme=dark] .colab-df-convert:hover {\n",
              "      background-color: #434B5C;\n",
              "      box-shadow: 0px 1px 3px 1px rgba(0, 0, 0, 0.15);\n",
              "      filter: drop-shadow(0px 1px 2px rgba(0, 0, 0, 0.3));\n",
              "      fill: #FFFFFF;\n",
              "    }\n",
              "  </style>\n",
              "\n",
              "    <script>\n",
              "      const buttonEl =\n",
              "        document.querySelector('#df-5fff385e-1351-4b79-b54e-a4b18c9f3d62 button.colab-df-convert');\n",
              "      buttonEl.style.display =\n",
              "        google.colab.kernel.accessAllowed ? 'block' : 'none';\n",
              "\n",
              "      async function convertToInteractive(key) {\n",
              "        const element = document.querySelector('#df-5fff385e-1351-4b79-b54e-a4b18c9f3d62');\n",
              "        const dataTable =\n",
              "          await google.colab.kernel.invokeFunction('convertToInteractive',\n",
              "                                                    [key], {});\n",
              "        if (!dataTable) return;\n",
              "\n",
              "        const docLinkHtml = 'Like what you see? Visit the ' +\n",
              "          '<a target=\"_blank\" href=https://colab.research.google.com/notebooks/data_table.ipynb>data table notebook</a>'\n",
              "          + ' to learn more about interactive tables.';\n",
              "        element.innerHTML = '';\n",
              "        dataTable['output_type'] = 'display_data';\n",
              "        await google.colab.output.renderOutput(dataTable, element);\n",
              "        const docLink = document.createElement('div');\n",
              "        docLink.innerHTML = docLinkHtml;\n",
              "        element.appendChild(docLink);\n",
              "      }\n",
              "    </script>\n",
              "  </div>\n",
              "\n",
              "\n",
              "    <div id=\"df-ca4c45fe-7239-4f10-947c-5a2ca6c3b308\">\n",
              "      <button class=\"colab-df-quickchart\" onclick=\"quickchart('df-ca4c45fe-7239-4f10-947c-5a2ca6c3b308')\"\n",
              "                title=\"Suggest charts\"\n",
              "                style=\"display:none;\">\n",
              "\n",
              "<svg xmlns=\"http://www.w3.org/2000/svg\" height=\"24px\"viewBox=\"0 0 24 24\"\n",
              "     width=\"24px\">\n",
              "    <g>\n",
              "        <path d=\"M19 3H5c-1.1 0-2 .9-2 2v14c0 1.1.9 2 2 2h14c1.1 0 2-.9 2-2V5c0-1.1-.9-2-2-2zM9 17H7v-7h2v7zm4 0h-2V7h2v10zm4 0h-2v-4h2v4z\"/>\n",
              "    </g>\n",
              "</svg>\n",
              "      </button>\n",
              "\n",
              "<style>\n",
              "  .colab-df-quickchart {\n",
              "      --bg-color: #E8F0FE;\n",
              "      --fill-color: #1967D2;\n",
              "      --hover-bg-color: #E2EBFA;\n",
              "      --hover-fill-color: #174EA6;\n",
              "      --disabled-fill-color: #AAA;\n",
              "      --disabled-bg-color: #DDD;\n",
              "  }\n",
              "\n",
              "  [theme=dark] .colab-df-quickchart {\n",
              "      --bg-color: #3B4455;\n",
              "      --fill-color: #D2E3FC;\n",
              "      --hover-bg-color: #434B5C;\n",
              "      --hover-fill-color: #FFFFFF;\n",
              "      --disabled-bg-color: #3B4455;\n",
              "      --disabled-fill-color: #666;\n",
              "  }\n",
              "\n",
              "  .colab-df-quickchart {\n",
              "    background-color: var(--bg-color);\n",
              "    border: none;\n",
              "    border-radius: 50%;\n",
              "    cursor: pointer;\n",
              "    display: none;\n",
              "    fill: var(--fill-color);\n",
              "    height: 32px;\n",
              "    padding: 0;\n",
              "    width: 32px;\n",
              "  }\n",
              "\n",
              "  .colab-df-quickchart:hover {\n",
              "    background-color: var(--hover-bg-color);\n",
              "    box-shadow: 0 1px 2px rgba(60, 64, 67, 0.3), 0 1px 3px 1px rgba(60, 64, 67, 0.15);\n",
              "    fill: var(--button-hover-fill-color);\n",
              "  }\n",
              "\n",
              "  .colab-df-quickchart-complete:disabled,\n",
              "  .colab-df-quickchart-complete:disabled:hover {\n",
              "    background-color: var(--disabled-bg-color);\n",
              "    fill: var(--disabled-fill-color);\n",
              "    box-shadow: none;\n",
              "  }\n",
              "\n",
              "  .colab-df-spinner {\n",
              "    border: 2px solid var(--fill-color);\n",
              "    border-color: transparent;\n",
              "    border-bottom-color: var(--fill-color);\n",
              "    animation:\n",
              "      spin 1s steps(1) infinite;\n",
              "  }\n",
              "\n",
              "  @keyframes spin {\n",
              "    0% {\n",
              "      border-color: transparent;\n",
              "      border-bottom-color: var(--fill-color);\n",
              "      border-left-color: var(--fill-color);\n",
              "    }\n",
              "    20% {\n",
              "      border-color: transparent;\n",
              "      border-left-color: var(--fill-color);\n",
              "      border-top-color: var(--fill-color);\n",
              "    }\n",
              "    30% {\n",
              "      border-color: transparent;\n",
              "      border-left-color: var(--fill-color);\n",
              "      border-top-color: var(--fill-color);\n",
              "      border-right-color: var(--fill-color);\n",
              "    }\n",
              "    40% {\n",
              "      border-color: transparent;\n",
              "      border-right-color: var(--fill-color);\n",
              "      border-top-color: var(--fill-color);\n",
              "    }\n",
              "    60% {\n",
              "      border-color: transparent;\n",
              "      border-right-color: var(--fill-color);\n",
              "    }\n",
              "    80% {\n",
              "      border-color: transparent;\n",
              "      border-right-color: var(--fill-color);\n",
              "      border-bottom-color: var(--fill-color);\n",
              "    }\n",
              "    90% {\n",
              "      border-color: transparent;\n",
              "      border-bottom-color: var(--fill-color);\n",
              "    }\n",
              "  }\n",
              "</style>\n",
              "\n",
              "      <script>\n",
              "        async function quickchart(key) {\n",
              "          const quickchartButtonEl =\n",
              "            document.querySelector('#' + key + ' button');\n",
              "          quickchartButtonEl.disabled = true;  // To prevent multiple clicks.\n",
              "          quickchartButtonEl.classList.add('colab-df-spinner');\n",
              "          try {\n",
              "            const charts = await google.colab.kernel.invokeFunction(\n",
              "                'suggestCharts', [key], {});\n",
              "          } catch (error) {\n",
              "            console.error('Error during call to suggestCharts:', error);\n",
              "          }\n",
              "          quickchartButtonEl.classList.remove('colab-df-spinner');\n",
              "          quickchartButtonEl.classList.add('colab-df-quickchart-complete');\n",
              "        }\n",
              "        (() => {\n",
              "          let quickchartButtonEl =\n",
              "            document.querySelector('#df-ca4c45fe-7239-4f10-947c-5a2ca6c3b308 button');\n",
              "          quickchartButtonEl.style.display =\n",
              "            google.colab.kernel.accessAllowed ? 'block' : 'none';\n",
              "        })();\n",
              "      </script>\n",
              "    </div>\n",
              "\n",
              "    </div>\n",
              "  </div>\n"
            ],
            "application/vnd.google.colaboratory.intrinsic+json": {
              "type": "dataframe"
            }
          },
          "metadata": {},
          "execution_count": 6
        }
      ],
      "source": [
        "data_raw.describe()"
      ]
    },
    {
      "cell_type": "markdown",
      "metadata": {
        "id": "L4LMkig3kZtm"
      },
      "source": [
        "In these dats, the different columns correspond to different $\\textbf{features}$, many of these are useless for our goals since we are interested just in the age of the person and how she/he voted. The line corresponds to all the people that were interviewed.  The code for this two features are respectively \"cut15\" and \"numage\", let's focus on them and change the nomenclature for having a new nice-looking dataframe.\n",
        "\n",
        "\n"
      ]
    },
    {
      "cell_type": "code",
      "execution_count": 7,
      "metadata": {
        "id": "o9I1QluQkZtn"
      },
      "outputs": [],
      "source": [
        "# Feature selection\n",
        "data = data_raw[['numage', 'cut15']]\n",
        "# Rename columns\n",
        "data.columns = ['age', 'vote']"
      ]
    },
    {
      "cell_type": "markdown",
      "metadata": {
        "id": "n26gKwuLkZtn"
      },
      "source": [
        "The possible answer to the question - How did you vote on the question ‘Should the United Kingdom remain a member of the European Union or leave the European Union’?” - are encoded through $\\textbf{labels}$, i.e. a number going from 1 to 6 encoding what was the answer:"
      ]
    },
    {
      "cell_type": "markdown",
      "metadata": {
        "id": "vSRmeu_iSc8G"
      },
      "source": [
        "Value = 1.0 $\\qquad$ Label = Remain a member of the European Union\n",
        "\n",
        "Value = 2.0 $\\qquad$   Label = Leave the European Union\n",
        "\n",
        "Value = 3.0 $\\qquad$   Label = Did not vote\n",
        "\n",
        "Value = 4.0 $\\qquad$   Label = Too young\n",
        "\n",
        "Value = 5.0 $\\qquad$   Label = Can't remember\n",
        "\n",
        "Value = 6.0 $\\qquad$   Label = Refused"
      ]
    },
    {
      "cell_type": "code",
      "execution_count": 8,
      "metadata": {
        "colab": {
          "base_uri": "https://localhost:8080/",
          "height": 206
        },
        "id": "MsliY_b6kZto",
        "outputId": "9cbd91dc-9e16-4292-811f-1ef66558be16",
        "scrolled": true
      },
      "outputs": [
        {
          "output_type": "execute_result",
          "data": {
            "text/plain": [
              "   age  vote\n",
              "0   37     1\n",
              "1   55     1\n",
              "2   71     2\n",
              "3   37     1\n",
              "4   42     1"
            ],
            "text/html": [
              "\n",
              "  <div id=\"df-6d7d70b2-d62c-4e36-8617-214983851516\" class=\"colab-df-container\">\n",
              "    <div>\n",
              "<style scoped>\n",
              "    .dataframe tbody tr th:only-of-type {\n",
              "        vertical-align: middle;\n",
              "    }\n",
              "\n",
              "    .dataframe tbody tr th {\n",
              "        vertical-align: top;\n",
              "    }\n",
              "\n",
              "    .dataframe thead th {\n",
              "        text-align: right;\n",
              "    }\n",
              "</style>\n",
              "<table border=\"1\" class=\"dataframe\">\n",
              "  <thead>\n",
              "    <tr style=\"text-align: right;\">\n",
              "      <th></th>\n",
              "      <th>age</th>\n",
              "      <th>vote</th>\n",
              "    </tr>\n",
              "  </thead>\n",
              "  <tbody>\n",
              "    <tr>\n",
              "      <th>0</th>\n",
              "      <td>37</td>\n",
              "      <td>1</td>\n",
              "    </tr>\n",
              "    <tr>\n",
              "      <th>1</th>\n",
              "      <td>55</td>\n",
              "      <td>1</td>\n",
              "    </tr>\n",
              "    <tr>\n",
              "      <th>2</th>\n",
              "      <td>71</td>\n",
              "      <td>2</td>\n",
              "    </tr>\n",
              "    <tr>\n",
              "      <th>3</th>\n",
              "      <td>37</td>\n",
              "      <td>1</td>\n",
              "    </tr>\n",
              "    <tr>\n",
              "      <th>4</th>\n",
              "      <td>42</td>\n",
              "      <td>1</td>\n",
              "    </tr>\n",
              "  </tbody>\n",
              "</table>\n",
              "</div>\n",
              "    <div class=\"colab-df-buttons\">\n",
              "\n",
              "  <div class=\"colab-df-container\">\n",
              "    <button class=\"colab-df-convert\" onclick=\"convertToInteractive('df-6d7d70b2-d62c-4e36-8617-214983851516')\"\n",
              "            title=\"Convert this dataframe to an interactive table.\"\n",
              "            style=\"display:none;\">\n",
              "\n",
              "  <svg xmlns=\"http://www.w3.org/2000/svg\" height=\"24px\" viewBox=\"0 -960 960 960\">\n",
              "    <path d=\"M120-120v-720h720v720H120Zm60-500h600v-160H180v160Zm220 220h160v-160H400v160Zm0 220h160v-160H400v160ZM180-400h160v-160H180v160Zm440 0h160v-160H620v160ZM180-180h160v-160H180v160Zm440 0h160v-160H620v160Z\"/>\n",
              "  </svg>\n",
              "    </button>\n",
              "\n",
              "  <style>\n",
              "    .colab-df-container {\n",
              "      display:flex;\n",
              "      gap: 12px;\n",
              "    }\n",
              "\n",
              "    .colab-df-convert {\n",
              "      background-color: #E8F0FE;\n",
              "      border: none;\n",
              "      border-radius: 50%;\n",
              "      cursor: pointer;\n",
              "      display: none;\n",
              "      fill: #1967D2;\n",
              "      height: 32px;\n",
              "      padding: 0 0 0 0;\n",
              "      width: 32px;\n",
              "    }\n",
              "\n",
              "    .colab-df-convert:hover {\n",
              "      background-color: #E2EBFA;\n",
              "      box-shadow: 0px 1px 2px rgba(60, 64, 67, 0.3), 0px 1px 3px 1px rgba(60, 64, 67, 0.15);\n",
              "      fill: #174EA6;\n",
              "    }\n",
              "\n",
              "    .colab-df-buttons div {\n",
              "      margin-bottom: 4px;\n",
              "    }\n",
              "\n",
              "    [theme=dark] .colab-df-convert {\n",
              "      background-color: #3B4455;\n",
              "      fill: #D2E3FC;\n",
              "    }\n",
              "\n",
              "    [theme=dark] .colab-df-convert:hover {\n",
              "      background-color: #434B5C;\n",
              "      box-shadow: 0px 1px 3px 1px rgba(0, 0, 0, 0.15);\n",
              "      filter: drop-shadow(0px 1px 2px rgba(0, 0, 0, 0.3));\n",
              "      fill: #FFFFFF;\n",
              "    }\n",
              "  </style>\n",
              "\n",
              "    <script>\n",
              "      const buttonEl =\n",
              "        document.querySelector('#df-6d7d70b2-d62c-4e36-8617-214983851516 button.colab-df-convert');\n",
              "      buttonEl.style.display =\n",
              "        google.colab.kernel.accessAllowed ? 'block' : 'none';\n",
              "\n",
              "      async function convertToInteractive(key) {\n",
              "        const element = document.querySelector('#df-6d7d70b2-d62c-4e36-8617-214983851516');\n",
              "        const dataTable =\n",
              "          await google.colab.kernel.invokeFunction('convertToInteractive',\n",
              "                                                    [key], {});\n",
              "        if (!dataTable) return;\n",
              "\n",
              "        const docLinkHtml = 'Like what you see? Visit the ' +\n",
              "          '<a target=\"_blank\" href=https://colab.research.google.com/notebooks/data_table.ipynb>data table notebook</a>'\n",
              "          + ' to learn more about interactive tables.';\n",
              "        element.innerHTML = '';\n",
              "        dataTable['output_type'] = 'display_data';\n",
              "        await google.colab.output.renderOutput(dataTable, element);\n",
              "        const docLink = document.createElement('div');\n",
              "        docLink.innerHTML = docLinkHtml;\n",
              "        element.appendChild(docLink);\n",
              "      }\n",
              "    </script>\n",
              "  </div>\n",
              "\n",
              "\n",
              "    <div id=\"df-eea562e7-0433-4ed0-a073-bf3f1da5fb81\">\n",
              "      <button class=\"colab-df-quickchart\" onclick=\"quickchart('df-eea562e7-0433-4ed0-a073-bf3f1da5fb81')\"\n",
              "                title=\"Suggest charts\"\n",
              "                style=\"display:none;\">\n",
              "\n",
              "<svg xmlns=\"http://www.w3.org/2000/svg\" height=\"24px\"viewBox=\"0 0 24 24\"\n",
              "     width=\"24px\">\n",
              "    <g>\n",
              "        <path d=\"M19 3H5c-1.1 0-2 .9-2 2v14c0 1.1.9 2 2 2h14c1.1 0 2-.9 2-2V5c0-1.1-.9-2-2-2zM9 17H7v-7h2v7zm4 0h-2V7h2v10zm4 0h-2v-4h2v4z\"/>\n",
              "    </g>\n",
              "</svg>\n",
              "      </button>\n",
              "\n",
              "<style>\n",
              "  .colab-df-quickchart {\n",
              "      --bg-color: #E8F0FE;\n",
              "      --fill-color: #1967D2;\n",
              "      --hover-bg-color: #E2EBFA;\n",
              "      --hover-fill-color: #174EA6;\n",
              "      --disabled-fill-color: #AAA;\n",
              "      --disabled-bg-color: #DDD;\n",
              "  }\n",
              "\n",
              "  [theme=dark] .colab-df-quickchart {\n",
              "      --bg-color: #3B4455;\n",
              "      --fill-color: #D2E3FC;\n",
              "      --hover-bg-color: #434B5C;\n",
              "      --hover-fill-color: #FFFFFF;\n",
              "      --disabled-bg-color: #3B4455;\n",
              "      --disabled-fill-color: #666;\n",
              "  }\n",
              "\n",
              "  .colab-df-quickchart {\n",
              "    background-color: var(--bg-color);\n",
              "    border: none;\n",
              "    border-radius: 50%;\n",
              "    cursor: pointer;\n",
              "    display: none;\n",
              "    fill: var(--fill-color);\n",
              "    height: 32px;\n",
              "    padding: 0;\n",
              "    width: 32px;\n",
              "  }\n",
              "\n",
              "  .colab-df-quickchart:hover {\n",
              "    background-color: var(--hover-bg-color);\n",
              "    box-shadow: 0 1px 2px rgba(60, 64, 67, 0.3), 0 1px 3px 1px rgba(60, 64, 67, 0.15);\n",
              "    fill: var(--button-hover-fill-color);\n",
              "  }\n",
              "\n",
              "  .colab-df-quickchart-complete:disabled,\n",
              "  .colab-df-quickchart-complete:disabled:hover {\n",
              "    background-color: var(--disabled-bg-color);\n",
              "    fill: var(--disabled-fill-color);\n",
              "    box-shadow: none;\n",
              "  }\n",
              "\n",
              "  .colab-df-spinner {\n",
              "    border: 2px solid var(--fill-color);\n",
              "    border-color: transparent;\n",
              "    border-bottom-color: var(--fill-color);\n",
              "    animation:\n",
              "      spin 1s steps(1) infinite;\n",
              "  }\n",
              "\n",
              "  @keyframes spin {\n",
              "    0% {\n",
              "      border-color: transparent;\n",
              "      border-bottom-color: var(--fill-color);\n",
              "      border-left-color: var(--fill-color);\n",
              "    }\n",
              "    20% {\n",
              "      border-color: transparent;\n",
              "      border-left-color: var(--fill-color);\n",
              "      border-top-color: var(--fill-color);\n",
              "    }\n",
              "    30% {\n",
              "      border-color: transparent;\n",
              "      border-left-color: var(--fill-color);\n",
              "      border-top-color: var(--fill-color);\n",
              "      border-right-color: var(--fill-color);\n",
              "    }\n",
              "    40% {\n",
              "      border-color: transparent;\n",
              "      border-right-color: var(--fill-color);\n",
              "      border-top-color: var(--fill-color);\n",
              "    }\n",
              "    60% {\n",
              "      border-color: transparent;\n",
              "      border-right-color: var(--fill-color);\n",
              "    }\n",
              "    80% {\n",
              "      border-color: transparent;\n",
              "      border-right-color: var(--fill-color);\n",
              "      border-bottom-color: var(--fill-color);\n",
              "    }\n",
              "    90% {\n",
              "      border-color: transparent;\n",
              "      border-bottom-color: var(--fill-color);\n",
              "    }\n",
              "  }\n",
              "</style>\n",
              "\n",
              "      <script>\n",
              "        async function quickchart(key) {\n",
              "          const quickchartButtonEl =\n",
              "            document.querySelector('#' + key + ' button');\n",
              "          quickchartButtonEl.disabled = true;  // To prevent multiple clicks.\n",
              "          quickchartButtonEl.classList.add('colab-df-spinner');\n",
              "          try {\n",
              "            const charts = await google.colab.kernel.invokeFunction(\n",
              "                'suggestCharts', [key], {});\n",
              "          } catch (error) {\n",
              "            console.error('Error during call to suggestCharts:', error);\n",
              "          }\n",
              "          quickchartButtonEl.classList.remove('colab-df-spinner');\n",
              "          quickchartButtonEl.classList.add('colab-df-quickchart-complete');\n",
              "        }\n",
              "        (() => {\n",
              "          let quickchartButtonEl =\n",
              "            document.querySelector('#df-eea562e7-0433-4ed0-a073-bf3f1da5fb81 button');\n",
              "          quickchartButtonEl.style.display =\n",
              "            google.colab.kernel.accessAllowed ? 'block' : 'none';\n",
              "        })();\n",
              "      </script>\n",
              "    </div>\n",
              "\n",
              "    </div>\n",
              "  </div>\n"
            ],
            "application/vnd.google.colaboratory.intrinsic+json": {
              "type": "dataframe",
              "variable_name": "data",
              "summary": "{\n  \"name\": \"data\",\n  \"rows\": 1771,\n  \"fields\": [\n    {\n      \"column\": \"age\",\n      \"properties\": {\n        \"dtype\": \"number\",\n        \"std\": 18,\n        \"min\": 0,\n        \"max\": 92,\n        \"num_unique_values\": 76,\n        \"samples\": [\n          0,\n          59,\n          79\n        ],\n        \"semantic_type\": \"\",\n        \"description\": \"\"\n      }\n    },\n    {\n      \"column\": \"vote\",\n      \"properties\": {\n        \"dtype\": \"number\",\n        \"std\": 1,\n        \"min\": 1,\n        \"max\": 6,\n        \"num_unique_values\": 6,\n        \"samples\": [\n          1,\n          2,\n          4\n        ],\n        \"semantic_type\": \"\",\n        \"description\": \"\"\n      }\n    }\n  ]\n}"
            }
          },
          "metadata": {},
          "execution_count": 8
        }
      ],
      "source": [
        "# Let's see how it looks like now\n",
        "data.head()"
      ]
    },
    {
      "cell_type": "markdown",
      "metadata": {
        "id": "15ZcekWWW9cH"
      },
      "source": [
        "We can use `data.sort_values` to sort the dataset by age"
      ]
    },
    {
      "cell_type": "code",
      "execution_count": 9,
      "metadata": {
        "colab": {
          "base_uri": "https://localhost:8080/",
          "height": 424
        },
        "id": "DapK84t6TsEc",
        "outputId": "9ed217ab-fb67-44e8-b3fd-372a41d25d47"
      },
      "outputs": [
        {
          "output_type": "execute_result",
          "data": {
            "text/plain": [
              "      age  vote\n",
              "1681    0     1\n",
              "519     0     2\n",
              "412     0     2\n",
              "386     0     3\n",
              "1627    0     1\n",
              "...   ...   ...\n",
              "525    91     2\n",
              "1557   92     2\n",
              "405    92     1\n",
              "371    92     1\n",
              "1518   92     2\n",
              "\n",
              "[1771 rows x 2 columns]"
            ],
            "text/html": [
              "\n",
              "  <div id=\"df-56772e72-419b-4365-b2b3-498b7733b1cf\" class=\"colab-df-container\">\n",
              "    <div>\n",
              "<style scoped>\n",
              "    .dataframe tbody tr th:only-of-type {\n",
              "        vertical-align: middle;\n",
              "    }\n",
              "\n",
              "    .dataframe tbody tr th {\n",
              "        vertical-align: top;\n",
              "    }\n",
              "\n",
              "    .dataframe thead th {\n",
              "        text-align: right;\n",
              "    }\n",
              "</style>\n",
              "<table border=\"1\" class=\"dataframe\">\n",
              "  <thead>\n",
              "    <tr style=\"text-align: right;\">\n",
              "      <th></th>\n",
              "      <th>age</th>\n",
              "      <th>vote</th>\n",
              "    </tr>\n",
              "  </thead>\n",
              "  <tbody>\n",
              "    <tr>\n",
              "      <th>1681</th>\n",
              "      <td>0</td>\n",
              "      <td>1</td>\n",
              "    </tr>\n",
              "    <tr>\n",
              "      <th>519</th>\n",
              "      <td>0</td>\n",
              "      <td>2</td>\n",
              "    </tr>\n",
              "    <tr>\n",
              "      <th>412</th>\n",
              "      <td>0</td>\n",
              "      <td>2</td>\n",
              "    </tr>\n",
              "    <tr>\n",
              "      <th>386</th>\n",
              "      <td>0</td>\n",
              "      <td>3</td>\n",
              "    </tr>\n",
              "    <tr>\n",
              "      <th>1627</th>\n",
              "      <td>0</td>\n",
              "      <td>1</td>\n",
              "    </tr>\n",
              "    <tr>\n",
              "      <th>...</th>\n",
              "      <td>...</td>\n",
              "      <td>...</td>\n",
              "    </tr>\n",
              "    <tr>\n",
              "      <th>525</th>\n",
              "      <td>91</td>\n",
              "      <td>2</td>\n",
              "    </tr>\n",
              "    <tr>\n",
              "      <th>1557</th>\n",
              "      <td>92</td>\n",
              "      <td>2</td>\n",
              "    </tr>\n",
              "    <tr>\n",
              "      <th>405</th>\n",
              "      <td>92</td>\n",
              "      <td>1</td>\n",
              "    </tr>\n",
              "    <tr>\n",
              "      <th>371</th>\n",
              "      <td>92</td>\n",
              "      <td>1</td>\n",
              "    </tr>\n",
              "    <tr>\n",
              "      <th>1518</th>\n",
              "      <td>92</td>\n",
              "      <td>2</td>\n",
              "    </tr>\n",
              "  </tbody>\n",
              "</table>\n",
              "<p>1771 rows × 2 columns</p>\n",
              "</div>\n",
              "    <div class=\"colab-df-buttons\">\n",
              "\n",
              "  <div class=\"colab-df-container\">\n",
              "    <button class=\"colab-df-convert\" onclick=\"convertToInteractive('df-56772e72-419b-4365-b2b3-498b7733b1cf')\"\n",
              "            title=\"Convert this dataframe to an interactive table.\"\n",
              "            style=\"display:none;\">\n",
              "\n",
              "  <svg xmlns=\"http://www.w3.org/2000/svg\" height=\"24px\" viewBox=\"0 -960 960 960\">\n",
              "    <path d=\"M120-120v-720h720v720H120Zm60-500h600v-160H180v160Zm220 220h160v-160H400v160Zm0 220h160v-160H400v160ZM180-400h160v-160H180v160Zm440 0h160v-160H620v160ZM180-180h160v-160H180v160Zm440 0h160v-160H620v160Z\"/>\n",
              "  </svg>\n",
              "    </button>\n",
              "\n",
              "  <style>\n",
              "    .colab-df-container {\n",
              "      display:flex;\n",
              "      gap: 12px;\n",
              "    }\n",
              "\n",
              "    .colab-df-convert {\n",
              "      background-color: #E8F0FE;\n",
              "      border: none;\n",
              "      border-radius: 50%;\n",
              "      cursor: pointer;\n",
              "      display: none;\n",
              "      fill: #1967D2;\n",
              "      height: 32px;\n",
              "      padding: 0 0 0 0;\n",
              "      width: 32px;\n",
              "    }\n",
              "\n",
              "    .colab-df-convert:hover {\n",
              "      background-color: #E2EBFA;\n",
              "      box-shadow: 0px 1px 2px rgba(60, 64, 67, 0.3), 0px 1px 3px 1px rgba(60, 64, 67, 0.15);\n",
              "      fill: #174EA6;\n",
              "    }\n",
              "\n",
              "    .colab-df-buttons div {\n",
              "      margin-bottom: 4px;\n",
              "    }\n",
              "\n",
              "    [theme=dark] .colab-df-convert {\n",
              "      background-color: #3B4455;\n",
              "      fill: #D2E3FC;\n",
              "    }\n",
              "\n",
              "    [theme=dark] .colab-df-convert:hover {\n",
              "      background-color: #434B5C;\n",
              "      box-shadow: 0px 1px 3px 1px rgba(0, 0, 0, 0.15);\n",
              "      filter: drop-shadow(0px 1px 2px rgba(0, 0, 0, 0.3));\n",
              "      fill: #FFFFFF;\n",
              "    }\n",
              "  </style>\n",
              "\n",
              "    <script>\n",
              "      const buttonEl =\n",
              "        document.querySelector('#df-56772e72-419b-4365-b2b3-498b7733b1cf button.colab-df-convert');\n",
              "      buttonEl.style.display =\n",
              "        google.colab.kernel.accessAllowed ? 'block' : 'none';\n",
              "\n",
              "      async function convertToInteractive(key) {\n",
              "        const element = document.querySelector('#df-56772e72-419b-4365-b2b3-498b7733b1cf');\n",
              "        const dataTable =\n",
              "          await google.colab.kernel.invokeFunction('convertToInteractive',\n",
              "                                                    [key], {});\n",
              "        if (!dataTable) return;\n",
              "\n",
              "        const docLinkHtml = 'Like what you see? Visit the ' +\n",
              "          '<a target=\"_blank\" href=https://colab.research.google.com/notebooks/data_table.ipynb>data table notebook</a>'\n",
              "          + ' to learn more about interactive tables.';\n",
              "        element.innerHTML = '';\n",
              "        dataTable['output_type'] = 'display_data';\n",
              "        await google.colab.output.renderOutput(dataTable, element);\n",
              "        const docLink = document.createElement('div');\n",
              "        docLink.innerHTML = docLinkHtml;\n",
              "        element.appendChild(docLink);\n",
              "      }\n",
              "    </script>\n",
              "  </div>\n",
              "\n",
              "\n",
              "    <div id=\"df-1a0af6ac-29e1-4f73-a990-7812d350aca5\">\n",
              "      <button class=\"colab-df-quickchart\" onclick=\"quickchart('df-1a0af6ac-29e1-4f73-a990-7812d350aca5')\"\n",
              "                title=\"Suggest charts\"\n",
              "                style=\"display:none;\">\n",
              "\n",
              "<svg xmlns=\"http://www.w3.org/2000/svg\" height=\"24px\"viewBox=\"0 0 24 24\"\n",
              "     width=\"24px\">\n",
              "    <g>\n",
              "        <path d=\"M19 3H5c-1.1 0-2 .9-2 2v14c0 1.1.9 2 2 2h14c1.1 0 2-.9 2-2V5c0-1.1-.9-2-2-2zM9 17H7v-7h2v7zm4 0h-2V7h2v10zm4 0h-2v-4h2v4z\"/>\n",
              "    </g>\n",
              "</svg>\n",
              "      </button>\n",
              "\n",
              "<style>\n",
              "  .colab-df-quickchart {\n",
              "      --bg-color: #E8F0FE;\n",
              "      --fill-color: #1967D2;\n",
              "      --hover-bg-color: #E2EBFA;\n",
              "      --hover-fill-color: #174EA6;\n",
              "      --disabled-fill-color: #AAA;\n",
              "      --disabled-bg-color: #DDD;\n",
              "  }\n",
              "\n",
              "  [theme=dark] .colab-df-quickchart {\n",
              "      --bg-color: #3B4455;\n",
              "      --fill-color: #D2E3FC;\n",
              "      --hover-bg-color: #434B5C;\n",
              "      --hover-fill-color: #FFFFFF;\n",
              "      --disabled-bg-color: #3B4455;\n",
              "      --disabled-fill-color: #666;\n",
              "  }\n",
              "\n",
              "  .colab-df-quickchart {\n",
              "    background-color: var(--bg-color);\n",
              "    border: none;\n",
              "    border-radius: 50%;\n",
              "    cursor: pointer;\n",
              "    display: none;\n",
              "    fill: var(--fill-color);\n",
              "    height: 32px;\n",
              "    padding: 0;\n",
              "    width: 32px;\n",
              "  }\n",
              "\n",
              "  .colab-df-quickchart:hover {\n",
              "    background-color: var(--hover-bg-color);\n",
              "    box-shadow: 0 1px 2px rgba(60, 64, 67, 0.3), 0 1px 3px 1px rgba(60, 64, 67, 0.15);\n",
              "    fill: var(--button-hover-fill-color);\n",
              "  }\n",
              "\n",
              "  .colab-df-quickchart-complete:disabled,\n",
              "  .colab-df-quickchart-complete:disabled:hover {\n",
              "    background-color: var(--disabled-bg-color);\n",
              "    fill: var(--disabled-fill-color);\n",
              "    box-shadow: none;\n",
              "  }\n",
              "\n",
              "  .colab-df-spinner {\n",
              "    border: 2px solid var(--fill-color);\n",
              "    border-color: transparent;\n",
              "    border-bottom-color: var(--fill-color);\n",
              "    animation:\n",
              "      spin 1s steps(1) infinite;\n",
              "  }\n",
              "\n",
              "  @keyframes spin {\n",
              "    0% {\n",
              "      border-color: transparent;\n",
              "      border-bottom-color: var(--fill-color);\n",
              "      border-left-color: var(--fill-color);\n",
              "    }\n",
              "    20% {\n",
              "      border-color: transparent;\n",
              "      border-left-color: var(--fill-color);\n",
              "      border-top-color: var(--fill-color);\n",
              "    }\n",
              "    30% {\n",
              "      border-color: transparent;\n",
              "      border-left-color: var(--fill-color);\n",
              "      border-top-color: var(--fill-color);\n",
              "      border-right-color: var(--fill-color);\n",
              "    }\n",
              "    40% {\n",
              "      border-color: transparent;\n",
              "      border-right-color: var(--fill-color);\n",
              "      border-top-color: var(--fill-color);\n",
              "    }\n",
              "    60% {\n",
              "      border-color: transparent;\n",
              "      border-right-color: var(--fill-color);\n",
              "    }\n",
              "    80% {\n",
              "      border-color: transparent;\n",
              "      border-right-color: var(--fill-color);\n",
              "      border-bottom-color: var(--fill-color);\n",
              "    }\n",
              "    90% {\n",
              "      border-color: transparent;\n",
              "      border-bottom-color: var(--fill-color);\n",
              "    }\n",
              "  }\n",
              "</style>\n",
              "\n",
              "      <script>\n",
              "        async function quickchart(key) {\n",
              "          const quickchartButtonEl =\n",
              "            document.querySelector('#' + key + ' button');\n",
              "          quickchartButtonEl.disabled = true;  // To prevent multiple clicks.\n",
              "          quickchartButtonEl.classList.add('colab-df-spinner');\n",
              "          try {\n",
              "            const charts = await google.colab.kernel.invokeFunction(\n",
              "                'suggestCharts', [key], {});\n",
              "          } catch (error) {\n",
              "            console.error('Error during call to suggestCharts:', error);\n",
              "          }\n",
              "          quickchartButtonEl.classList.remove('colab-df-spinner');\n",
              "          quickchartButtonEl.classList.add('colab-df-quickchart-complete');\n",
              "        }\n",
              "        (() => {\n",
              "          let quickchartButtonEl =\n",
              "            document.querySelector('#df-1a0af6ac-29e1-4f73-a990-7812d350aca5 button');\n",
              "          quickchartButtonEl.style.display =\n",
              "            google.colab.kernel.accessAllowed ? 'block' : 'none';\n",
              "        })();\n",
              "      </script>\n",
              "    </div>\n",
              "\n",
              "    </div>\n",
              "  </div>\n"
            ],
            "application/vnd.google.colaboratory.intrinsic+json": {
              "type": "dataframe",
              "summary": "{\n  \"name\": \"data\",\n  \"rows\": 1771,\n  \"fields\": [\n    {\n      \"column\": \"age\",\n      \"properties\": {\n        \"dtype\": \"number\",\n        \"std\": 18,\n        \"min\": 0,\n        \"max\": 92,\n        \"num_unique_values\": 76,\n        \"samples\": [\n          21,\n          52,\n          27\n        ],\n        \"semantic_type\": \"\",\n        \"description\": \"\"\n      }\n    },\n    {\n      \"column\": \"vote\",\n      \"properties\": {\n        \"dtype\": \"number\",\n        \"std\": 1,\n        \"min\": 1,\n        \"max\": 6,\n        \"num_unique_values\": 6,\n        \"samples\": [\n          1,\n          2,\n          5\n        ],\n        \"semantic_type\": \"\",\n        \"description\": \"\"\n      }\n    }\n  ]\n}"
            }
          },
          "metadata": {},
          "execution_count": 9
        }
      ],
      "source": [
        "data.sort_values(by='age')"
      ]
    },
    {
      "cell_type": "markdown",
      "metadata": {
        "id": "35dFiX99kZto"
      },
      "source": [
        "We must do again a feature selection since we want to analyze just the age of Brexiteers and Remainers and because we see that there are some artifacts in the age column (many zeros appearing)."
      ]
    },
    {
      "cell_type": "code",
      "execution_count": 10,
      "metadata": {
        "colab": {
          "base_uri": "https://localhost:8080/"
        },
        "id": "2XFl6PjYkZto",
        "outputId": "f58e5aac-b87b-4360-b9f5-ce757b3a073e"
      },
      "outputs": [
        {
          "output_type": "stream",
          "name": "stdout",
          "text": [
            "The percentage of brexiteers is 0.4114068441064639\n"
          ]
        }
      ],
      "source": [
        "# Remove zeros in the age column\n",
        "data = data[data['age'] != 0]\n",
        "\n",
        "# Create the remainer and brexiters data frames by selecting the vote\n",
        "remainers = data[data['vote'] == 1]\n",
        "brexiteers = data[data['vote'] == 2]\n",
        "\n",
        "# We actually have in this poll less brexiteers than remainers, we compute using the function \"len\"\n",
        "print(f\"The percentage of brexiteers is {len(brexiteers)/(len(brexiteers) + len(remainers))}\")"
      ]
    },
    {
      "cell_type": "markdown",
      "metadata": {
        "id": "Vx39QFrXkZto"
      },
      "source": [
        "Let's have a look at the age distribution for the two. We import `matplotlib` for doing so, another well-known and important package that we shall use all the time.\n"
      ]
    },
    {
      "cell_type": "code",
      "execution_count": 11,
      "metadata": {
        "id": "FLY2E8eQkZtp"
      },
      "outputs": [],
      "source": [
        "import matplotlib.pyplot as plt"
      ]
    },
    {
      "cell_type": "code",
      "execution_count": 12,
      "metadata": {
        "colab": {
          "base_uri": "https://localhost:8080/",
          "height": 507
        },
        "id": "7Q_l54_ukZtp",
        "outputId": "c73a61b3-1680-44c9-94ab-35976df54c29"
      },
      "outputs": [
        {
          "output_type": "execute_result",
          "data": {
            "text/plain": [
              "Text(0, 0.5, '# (people)')"
            ]
          },
          "metadata": {},
          "execution_count": 12
        },
        {
          "output_type": "display_data",
          "data": {
            "text/plain": [
              "<Figure size 2000x700 with 2 Axes>"
            ],
            "image/png": "[encoded data removed]"
          },
          "metadata": {}
        }
      ],
      "source": [
        "%matplotlib inline\n",
        "fig, ax = plt.subplots(1,2, figsize=(20,7), sharex=True)\n",
        "plt.suptitle(\"Age distribution\", fontsize=16)\n",
        "ax[0].set_title(f\"Brexiteers\", fontsize=14)\n",
        "ax[0].hist(brexiteers['age'], color ='darkred')\n",
        "ax[0].set_xlabel(\"Age\", fontsize = 14)\n",
        "ax[0].set_ylabel(\"# (people)\", fontsize = 14)\n",
        "\n",
        "ax[1].set_title(f\"Remainers\", fontsize=14)\n",
        "ax[1].hist(remainers['age'], color ='darkblue')\n",
        "ax[1].set_xlabel(\"Age\", fontsize = 14)\n",
        "ax[1].set_ylabel(\"# (people)\", fontsize = 14)\n"
      ]
    },
    {
      "cell_type": "markdown",
      "metadata": {
        "id": "uV8-pYqVkZtp"
      },
      "source": [
        "Let's compute now the averages and compare them, using another well-known python package:"
      ]
    },
    {
      "cell_type": "code",
      "execution_count": 13,
      "metadata": {
        "colab": {
          "base_uri": "https://localhost:8080/"
        },
        "id": "m9a8H9BFkZtp",
        "outputId": "b0d01b1b-d214-4ffd-d8f8-2c0d83e2c5ec"
      },
      "outputs": [
        {
          "output_type": "stream",
          "name": "stdout",
          "text": [
            "The difference in average age is 3.6998380833655773\n"
          ]
        }
      ],
      "source": [
        "import numpy as np\n",
        "\n",
        "avg_brex = np.mean(brexiteers['age'])\n",
        "avg_rem = np.mean(remainers['age'])\n",
        "\n",
        "dataset_property = avg_brex - avg_rem\n",
        "print(f\"The difference in average age is {dataset_property}\")"
      ]
    },
    {
      "cell_type": "markdown",
      "metadata": {
        "id": "IDib6OPOkZtq"
      },
      "source": [
        "### $\\color{darkblue}{\\text{Hypothesis testing}}$"
      ]
    },
    {
      "cell_type": "markdown",
      "metadata": {
        "id": "sezDyfcxkZtq"
      },
      "source": [
        "Let's answer the very first question we asked ourselves: how can we quantify our level of confidence in stating that this difference is $\\textbf{NOT}$ given by low sample-size effect?"
      ]
    },
    {
      "cell_type": "markdown",
      "metadata": {
        "id": "6Mft4epakZtq"
      },
      "source": [
        "The answer is incredibly fascinating in its simplicity and effectiveness. The idea is the following:\n",
        "* *Create new datasets by permuting randomly the labels*\n",
        "* *Compute the differences in this new randomly drawn datasets*\n",
        "* *See how many times the differences are higher than the experimental one*"
      ]
    },
    {
      "cell_type": "markdown",
      "metadata": {
        "id": "F0xqZkwekZtq"
      },
      "source": [
        "We must create equivalent datasets made of a randomized group of 541 people (Group A) and another made of 774 (Group B) corresponding to what previously were respectively brexiteers and remainers."
      ]
    },
    {
      "cell_type": "code",
      "execution_count": 14,
      "metadata": {
        "colab": {
          "base_uri": "https://localhost:8080/"
        },
        "id": "ahlEJprOkZtq",
        "outputId": "f58e85e9-3d4a-4f92-fcd1-506495999328"
      },
      "outputs": [
        {
          "output_type": "stream",
          "name": "stdout",
          "text": [
            "1315\n"
          ]
        }
      ],
      "source": [
        "# Create a list with all ages\n",
        "\n",
        "global_stat = list(brexiteers['age']) +  list(remainers['age'])\n",
        "\n",
        "print(len(global_stat))"
      ]
    },
    {
      "cell_type": "markdown",
      "metadata": {
        "id": "kvZfqqNPkZtr"
      },
      "source": [
        "Import random package for computing random permutations"
      ]
    },
    {
      "cell_type": "code",
      "execution_count": 15,
      "metadata": {
        "id": "_jtXJJ2fkZtr"
      },
      "outputs": [],
      "source": [
        "import random"
      ]
    },
    {
      "cell_type": "markdown",
      "metadata": {
        "id": "acj_aQAAkZtr"
      },
      "source": [
        "Let's create 10000 new shuffled datasets and let's keep track when one difference in average ages is greater than the observed experimental one"
      ]
    },
    {
      "cell_type": "code",
      "execution_count": 16,
      "metadata": {
        "id": "RTwqupCBkZtr"
      },
      "outputs": [],
      "source": [
        "trials = 10000  ; count = 0\n",
        "\n",
        "for dumb in range(trials):\n",
        "    # Compute shuffled ages\n",
        "    random.shuffle(global_stat)\n",
        "    # Compute average of Group A\n",
        "    avg_A = sum(global_stat[:541])/541\n",
        "    # Compute average of Group B\n",
        "    avg_B = sum(global_stat[541:])/774\n",
        "    # Compute new shuffled difference\n",
        "    diff = avg_A - avg_B\n",
        "    if diff > dataset_property:\n",
        "        count +=1"
      ]
    },
    {
      "cell_type": "markdown",
      "metadata": {
        "id": "6ma70vUUkZtr"
      },
      "source": [
        "...and we finally arrive to the result"
      ]
    },
    {
      "cell_type": "code",
      "execution_count": 17,
      "metadata": {
        "colab": {
          "base_uri": "https://localhost:8080/"
        },
        "id": "k4RYL1_pkZtr",
        "outputId": "cfbb4c2c-c6d3-40ad-f676-6c43531091ea"
      },
      "outputs": [
        {
          "output_type": "stream",
          "name": "stdout",
          "text": [
            "The average age of Group A minus the one of Group B was greater than 3.6998380833655773 2 times\n"
          ]
        }
      ],
      "source": [
        "print(f\"The average age of Group A minus the one of Group B was greater than {dataset_property} {count} times\")"
      ]
    },
    {
      "cell_type": "markdown",
      "metadata": {
        "id": "LfxiGAGIkZts"
      },
      "source": [
        "We could safely $\\textbf{reject}$ the null hypothesis"
      ]
    },
    {
      "cell_type": "markdown",
      "metadata": {
        "id": "Ak3GTT6qk4rI"
      },
      "source": [
        "## $\\color{purple}{\\text{Bootstrap}}$"
      ]
    },
    {
      "cell_type": "markdown",
      "metadata": {
        "id": "p05uNZyMnxav"
      },
      "source": [
        "**Bootstrap** is a resampling strategy with replacement that requires no assumptions about the data distribution.\n",
        "\n",
        "It allows us to make inferences about the population statistics when we only have a finite number of samples. In the following we will see how to use it to evaluate the **confidence interval** and the **variance** of an estimator, but it has many other applications.\n",
        "\n",
        "Even when we only have one sample, the bootstrap method provides a good enough approximation of the true population statistics."
      ]
    },
    {
      "cell_type": "markdown",
      "metadata": {
        "id": "cxNaDN7Gn0g1"
      },
      "source": [
        "### $\\color{darkblue}{\\text{Bootstrap and Confidence Interval}}$"
      ]
    },
    {
      "cell_type": "markdown",
      "metadata": {
        "id": "eqJygVRRpaXv"
      },
      "source": [
        "Question: **With one sample, how can we calculate the Confidence Interval for the median age of the Brexiteers and Remainers?**"
      ]
    },
    {
      "cell_type": "markdown",
      "metadata": {
        "id": "BieSf161elNG"
      },
      "source": [
        "Let's recall the dataset and isolate the age feature."
      ]
    },
    {
      "cell_type": "markdown",
      "metadata": {
        "id": "s0nA7e8sh1Ci"
      },
      "source": [
        "To do so we take a single column of the dataset, which is an object called `Series`, and turn it into a `numpy.ndarray` using `pd.Series.to_numpy`"
      ]
    },
    {
      "cell_type": "code",
      "execution_count": 18,
      "metadata": {
        "id": "g4A_kIF-eogh"
      },
      "outputs": [],
      "source": [
        "brexit_ages = pd.Series.to_numpy(brexiteers['age'])\n",
        "remain_ages = pd.Series.to_numpy(remainers['age'])"
      ]
    },
    {
      "cell_type": "markdown",
      "metadata": {
        "id": "R59iurOsp-nc"
      },
      "source": [
        "First of all we compute the median for the two groups."
      ]
    },
    {
      "cell_type": "markdown",
      "metadata": {
        "id": "MhuANcdofDyx"
      },
      "source": [
        "Firstly try to do it by hand, building the function *median_value()*:"
      ]
    },
    {
      "cell_type": "code",
      "execution_count": 19,
      "metadata": {
        "id": "qd6OUEJvnI_Q"
      },
      "outputs": [],
      "source": [
        "def median_value(array):\n",
        "\n",
        "\n",
        "    sorted_arr = np.sort(array)\n",
        "    n = len(sorted_arr)\n",
        "\n",
        "    if n == 0:\n",
        "        return np.nan\n",
        "    elif n % 2 == 1:\n",
        "        # Odd\n",
        "        median = sorted_arr[n // 2]\n",
        "    else:\n",
        "        # Even\n",
        "        median = (sorted_arr[n // 2 - 1] + sorted_arr[n // 2]) / 2\n",
        "\n",
        "    return median"
      ]
    },
    {
      "cell_type": "code",
      "execution_count": 20,
      "metadata": {
        "id": "EUCT3MHdtcnB",
        "colab": {
          "base_uri": "https://localhost:8080/"
        },
        "outputId": "ba54360f-966f-497a-8d53-45fb3c0e291a"
      },
      "outputs": [
        {
          "output_type": "stream",
          "name": "stdout",
          "text": [
            "The median age of brexiteers is 53 while the one of remainers is 47.0\n"
          ]
        }
      ],
      "source": [
        "#Try to print the median age of brexiteers and remainers\n",
        "print(f\"The median age of brexiteers is {median_value(brexit_ages)} while the one of remainers is {median_value(remain_ages)}\")"
      ]
    },
    {
      "cell_type": "markdown",
      "metadata": {
        "id": "OhEQuYMQfmYV"
      },
      "source": [
        "Alternatively, one can use the `numpy` library and directly compute the median"
      ]
    },
    {
      "cell_type": "code",
      "execution_count": 21,
      "metadata": {
        "id": "po3ocPhDBHj6",
        "colab": {
          "base_uri": "https://localhost:8080/"
        },
        "outputId": "2cb528b9-c93b-458b-cb0b-ba3d93bfb3a1"
      },
      "outputs": [
        {
          "output_type": "stream",
          "name": "stdout",
          "text": [
            "The median age of brexiteers is 53.0 while the one of remainers is 47.0\n"
          ]
        }
      ],
      "source": [
        "print(f\"The median age of brexiteers is {np.median(brexit_ages)} while the one of remainers is {np.median(remain_ages)}\")"
      ]
    },
    {
      "cell_type": "markdown",
      "metadata": {
        "id": "DQM-yg3AgRKY"
      },
      "source": [
        "Now we use **bootstrap**: we repeatedly sample the two groups with replacement with the same sample size"
      ]
    },
    {
      "cell_type": "markdown",
      "metadata": {
        "id": "2baTznEsgwWg"
      },
      "source": [
        "Fist we start with Brexiteers, choosing $10000$ as the number of repetitions of the sampling"
      ]
    },
    {
      "cell_type": "code",
      "execution_count": 22,
      "metadata": {
        "id": "G4-MC0Qtf5_D"
      },
      "outputs": [],
      "source": [
        "n = len(brexit_ages)\n",
        "\n",
        "reps =10000"
      ]
    },
    {
      "cell_type": "markdown",
      "metadata": {
        "id": "dnq6SR7rhRdq"
      },
      "source": [
        "We then use\n",
        "\n",
        "```\n",
        "np.random.choice(a, size=None, replace=True, p=None)\n",
        "```\n",
        "\n",
        "which generates a random sample of a certain size from a given 1-D array `a`. If `replace=True`, then a value of `a` can be selected multiple times.\n"
      ]
    },
    {
      "cell_type": "code",
      "execution_count": 23,
      "metadata": {
        "id": "RYJFVQRthQI1"
      },
      "outputs": [],
      "source": [
        "np.random.seed(123)\n",
        "\n",
        "boot_brexit = np.random.choice(brexit_ages, (reps,n))\n",
        "boot_brexit_medians = np.median(boot_brexit, axis=1)"
      ]
    },
    {
      "cell_type": "markdown",
      "metadata": {
        "id": "qHKH_j_Eirgz"
      },
      "source": [
        "The results look like this"
      ]
    },
    {
      "cell_type": "code",
      "execution_count": 24,
      "metadata": {
        "colab": {
          "base_uri": "https://localhost:8080/"
        },
        "id": "UtTIR14aiZEj",
        "outputId": "1f54e848-c996-4e22-b320-418670f23ac5"
      },
      "outputs": [
        {
          "output_type": "execute_result",
          "data": {
            "text/plain": [
              "array([[54, 52, 83, ..., 28, 37, 60],\n",
              "       [64, 70, 42, ..., 55, 33, 38],\n",
              "       [50, 78, 64, ..., 35, 65, 62],\n",
              "       [65, 59, 46, ..., 52, 57, 64],\n",
              "       [54, 72, 61, ..., 84, 24, 35]])"
            ]
          },
          "metadata": {},
          "execution_count": 24
        }
      ],
      "source": [
        "boot_brexit[:5]"
      ]
    },
    {
      "cell_type": "code",
      "execution_count": 25,
      "metadata": {
        "colab": {
          "base_uri": "https://localhost:8080/"
        },
        "id": "sjMup-3wiy7a",
        "outputId": "3ecd6810-a7fe-44d4-e72c-9faae6e58668"
      },
      "outputs": [
        {
          "output_type": "execute_result",
          "data": {
            "text/plain": [
              "array([55., 53., 53., 54., 54.])"
            ]
          },
          "metadata": {},
          "execution_count": 25
        }
      ],
      "source": [
        "boot_brexit_medians[:5]"
      ]
    },
    {
      "cell_type": "markdown",
      "metadata": {
        "id": "sO6R_zyMjShf"
      },
      "source": [
        "Now we can compute the standard deviation and the confidence interval"
      ]
    },
    {
      "cell_type": "code",
      "execution_count": 26,
      "metadata": {
        "colab": {
          "base_uri": "https://localhost:8080/"
        },
        "id": "n-5MuUtJjKnh",
        "outputId": "936b8ca0-9e0f-46a3-968b-6bc373effa56"
      },
      "outputs": [
        {
          "output_type": "stream",
          "name": "stdout",
          "text": [
            "The mean of the median age of brexiteers computed with bootstrap is 53.3338 \n"
          ]
        }
      ],
      "source": [
        "print(f\"The mean of the median age of brexiteers computed with bootstrap is {boot_brexit_medians.mean()} \")"
      ]
    },
    {
      "cell_type": "code",
      "execution_count": 27,
      "metadata": {
        "colab": {
          "base_uri": "https://localhost:8080/"
        },
        "id": "glDhLqi9jUlJ",
        "outputId": "4611f65a-351b-4f3a-de10-35f33726c4c4"
      },
      "outputs": [
        {
          "output_type": "stream",
          "name": "stdout",
          "text": [
            "The standard deviation of the median age of brexiteers computed with bootstrap is 1.2133332435897404 \n"
          ]
        }
      ],
      "source": [
        "print(f\"The standard deviation of the median age of brexiteers computed with bootstrap is {boot_brexit_medians.std()} \")"
      ]
    },
    {
      "cell_type": "markdown",
      "metadata": {
        "id": "dInY2hkEj5y5"
      },
      "source": [
        "For the C.I. we use `np.percentile` to compute which range of values you can be 95% confident contains the true mean of the median"
      ]
    },
    {
      "cell_type": "code",
      "execution_count": 28,
      "metadata": {
        "colab": {
          "base_uri": "https://localhost:8080/"
        },
        "id": "lshxU8UTj0pH",
        "outputId": "5b40b631-f23a-40ae-9321-0c895582e106"
      },
      "outputs": [
        {
          "output_type": "stream",
          "name": "stdout",
          "text": [
            "The C.I. for the median age of brexiteers computed with bootstrap is [51.0,55.0] \n"
          ]
        }
      ],
      "source": [
        "boot_brexit_median_CI = np.percentile(boot_brexit_medians, [2.5,97.5])\n",
        "print(f\"The C.I. for the median age of brexiteers computed with bootstrap is [{boot_brexit_median_CI[0]},{boot_brexit_median_CI[1]}] \")"
      ]
    },
    {
      "cell_type": "markdown",
      "metadata": {
        "id": "TPEOi5NklbOm"
      },
      "source": [
        "Now try to do the same for remainers"
      ]
    },
    {
      "cell_type": "code",
      "execution_count": 30,
      "metadata": {
        "id": "KoAh6KP8lJA9"
      },
      "outputs": [],
      "source": [
        "n_rem = len(remain_ages)\n",
        "boot_remain = np.random.choice(remain_ages, (reps, n_rem))\n",
        "boot_remain_medians = np.median(boot_remain, axis=1)"
      ]
    },
    {
      "cell_type": "code",
      "execution_count": 31,
      "metadata": {
        "id": "rrZCOu87AQaZ",
        "colab": {
          "base_uri": "https://localhost:8080/"
        },
        "outputId": "536041b2-f3a0-4d11-a4c6-cb5c5f0021c0"
      },
      "outputs": [
        {
          "output_type": "stream",
          "name": "stdout",
          "text": [
            "The mean of the median age of remainers computed with bootstrap is 47.59275 \n",
            "The standard deviation of the median age of remainers computed with bootstrap is 1.542359373654532 \n",
            "The C.I. for the median age of remainers computed with bootstrap is [45.0,50.0] \n"
          ]
        }
      ],
      "source": [
        "print(f\"The mean of the median age of remainers computed with bootstrap is {boot_remain_medians.mean()} \")\n",
        "print(f\"The standard deviation of the median age of remainers computed with bootstrap is {boot_remain_medians.std()} \")\n",
        "boot_remain_median_CI = np.percentile(boot_remain_medians, [2.5, 97.5])\n",
        "print(f\"The C.I. for the median age of remainers computed with bootstrap is [{boot_remain_median_CI[0]},{boot_remain_median_CI[1]}] \")"
      ]
    },
    {
      "cell_type": "markdown",
      "metadata": {
        "id": "NWuG8pUeAPtT"
      },
      "source": [
        "Now we plot the median age distributions with the respective confidence intervals"
      ]
    },
    {
      "cell_type": "code",
      "execution_count": 32,
      "metadata": {
        "colab": {
          "base_uri": "https://localhost:8080/",
          "height": 489
        },
        "id": "Vq4Aav1mmmAy",
        "outputId": "05cceae4-500a-485a-8384-1e40eaa79f45"
      },
      "outputs": [
        {
          "output_type": "display_data",
          "data": {
            "text/plain": [
              "<Figure size 900x500 with 1 Axes>"
            ],
            "image/png": "[encoded data removed]"
          },
          "metadata": {}
        }
      ],
      "source": [
        "fig = plt.figure(figsize=(9,5))\n",
        "ax = fig.add_subplot(111)\n",
        "plt.title(\"Median age distribution\", size = 16)\n",
        "ax.hist(boot_brexit_medians, color ='darkred', label = f\"Brexiteers\")\n",
        "plt.axvline(boot_brexit_median_CI[0],color = 'red',linewidth=2)\n",
        "plt.axvline(boot_brexit_median_CI[1],color = 'red',linewidth=2)\n",
        "ax.hist(boot_remain_medians, color ='darkblue', label = f\"Remainers\")\n",
        "plt.axvline(boot_remain_median_CI[0],color = 'blue',linewidth=2)\n",
        "plt.axvline(boot_remain_median_CI[1],color = 'blue',linewidth=2)\n",
        "ax.set(xlabel =\"Age\" , ylabel = \"#(occurrences)\")\n",
        "ax.legend();"
      ]
    },
    {
      "cell_type": "markdown",
      "metadata": {
        "id": "CEvMDVrvmSqq"
      },
      "source": [
        "We see that the two intervals are not overlapping"
      ]
    },
    {
      "cell_type": "markdown",
      "metadata": {
        "id": "-s5-6DbwvYQz"
      },
      "source": [
        "# $\\color{purple}{\\text{Your turn - Titanic}}$"
      ]
    },
    {
      "cell_type": "markdown",
      "metadata": {
        "id": "QVUYnv80nNXv"
      },
      "source": [
        "\n",
        "The sinking of the Titanic is one of the most infamous shipwrecks in history.\n",
        "\n",
        "On April 15, 1912, during her maiden voyage, the widely considered “unsinkable” RMS Titanic sank after colliding with an iceberg. Unfortunately, there weren’t enough lifeboats for everyone onboard, resulting in the death of the majority of passengers and crew.\n",
        "\n",
        "While there was some element of luck involved in surviving, it seems some groups of people were more likely to survive than others."
      ]
    },
    {
      "cell_type": "markdown",
      "metadata": {
        "id": "OWF0LOe_wl4a"
      },
      "source": [
        "**The data set:**"
      ]
    },
    {
      "cell_type": "markdown",
      "metadata": {
        "id": "4P4jtgfcwiXz"
      },
      "source": [
        "First of all, we need to import the data from the csv file you can find [in this github](https://raw.githubusercontent.com/datasciencedojo/datasets/master/titanic.csv)"
      ]
    },
    {
      "cell_type": "markdown",
      "metadata": {
        "id": "tK6F6Bgx8qsf"
      },
      "source": [
        "### $\\color{darkblue}{\\text{Exercises:}}$"
      ]
    },
    {
      "cell_type": "markdown",
      "metadata": {
        "id": "FqaTj9p-b3l_"
      },
      "source": [
        "#### **Age and Ticket fares**"
      ]
    },
    {
      "cell_type": "markdown",
      "metadata": {
        "id": "o208x4_uwM74"
      },
      "source": [
        "##### 0)\n",
        "\n",
        "*   Import the dataset using `pd.read_csv` and visualize the data\n",
        "*   How many features are there?"
      ]
    },
    {
      "cell_type": "code",
      "execution_count": 37,
      "metadata": {
        "id": "9AtLW7pqwPmZ",
        "colab": {
          "base_uri": "https://localhost:8080/"
        },
        "outputId": "9a4c7b52-af61-4906-c007-97316ee09660"
      },
      "outputs": [
        {
          "output_type": "stream",
          "name": "stdout",
          "text": [
            "The number of features in the dataset is: 12\n"
          ]
        }
      ],
      "source": [
        "# Import\n",
        "titanic_df = pd.read_csv('https://raw.githubusercontent.com/datasciencedojo/datasets/master/titanic.csv', sep = ',')\n",
        "\n"
      ]
    },
    {
      "cell_type": "code",
      "source": [
        "# Visualize\n",
        "titanic_df"
      ],
      "metadata": {
        "colab": {
          "base_uri": "https://localhost:8080/",
          "height": 493
        },
        "id": "Vjr4rpLMjfoo",
        "outputId": "f7694f6c-6518-4a92-f0d8-67f9ac8f5e4c"
      },
      "execution_count": 38,
      "outputs": [
        {
          "output_type": "execute_result",
          "data": {
            "text/plain": [
              "     PassengerId  Survived  Pclass  \\\n",
              "0              1         0       3   \n",
              "1              2         1       1   \n",
              "2              3         1       3   \n",
              "3              4         1       1   \n",
              "4              5         0       3   \n",
              "..           ...       ...     ...   \n",
              "886          887         0       2   \n",
              "887          888         1       1   \n",
              "888          889         0       3   \n",
              "889          890         1       1   \n",
              "890          891         0       3   \n",
              "\n",
              "                                                  Name     Sex   Age  SibSp  \\\n",
              "0                              Braund, Mr. Owen Harris    male  22.0      1   \n",
              "1    Cumings, Mrs. John Bradley (Florence Briggs Th...  female  38.0      1   \n",
              "2                               Heikkinen, Miss. Laina  female  26.0      0   \n",
              "3         Futrelle, Mrs. Jacques Heath (Lily May Peel)  female  35.0      1   \n",
              "4                             Allen, Mr. William Henry    male  35.0      0   \n",
              "..                                                 ...     ...   ...    ...   \n",
              "886                              Montvila, Rev. Juozas    male  27.0      0   \n",
              "887                       Graham, Miss. Margaret Edith  female  19.0      0   \n",
              "888           Johnston, Miss. Catherine Helen \"Carrie\"  female   NaN      1   \n",
              "889                              Behr, Mr. Karl Howell    male  26.0      0   \n",
              "890                                Dooley, Mr. Patrick    male  32.0      0   \n",
              "\n",
              "     Parch            Ticket     Fare Cabin Embarked  \n",
              "0        0         A/5 21171   7.2500   NaN        S  \n",
              "1        0          PC 17599  71.2833   C85        C  \n",
              "2        0  STON/O2. 3101282   7.9250   NaN        S  \n",
              "3        0            113803  53.1000  C123        S  \n",
              "4        0            373450   8.0500   NaN        S  \n",
              "..     ...               ...      ...   ...      ...  \n",
              "886      0            211536  13.0000   NaN        S  \n",
              "887      0            112053  30.0000   B42        S  \n",
              "888      2        W./C. 6607  23.4500   NaN        S  \n",
              "889      0            111369  30.0000  C148        C  \n",
              "890      0            370376   7.7500   NaN        Q  \n",
              "\n",
              "[891 rows x 12 columns]"
            ],
            "text/html": [
              "\n",
              "  <div id=\"df-429ef049-d08d-4eb6-bcff-0ab7281dd2b3\" class=\"colab-df-container\">\n",
              "    <div>\n",
              "<style scoped>\n",
              "    .dataframe tbody tr th:only-of-type {\n",
              "        vertical-align: middle;\n",
              "    }\n",
              "\n",
              "    .dataframe tbody tr th {\n",
              "        vertical-align: top;\n",
              "    }\n",
              "\n",
              "    .dataframe thead th {\n",
              "        text-align: right;\n",
              "    }\n",
              "</style>\n",
              "<table border=\"1\" class=\"dataframe\">\n",
              "  <thead>\n",
              "    <tr style=\"text-align: right;\">\n",
              "      <th></th>\n",
              "      <th>PassengerId</th>\n",
              "      <th>Survived</th>\n",
              "      <th>Pclass</th>\n",
              "      <th>Name</th>\n",
              "      <th>Sex</th>\n",
              "      <th>Age</th>\n",
              "      <th>SibSp</th>\n",
              "      <th>Parch</th>\n",
              "      <th>Ticket</th>\n",
              "      <th>Fare</th>\n",
              "      <th>Cabin</th>\n",
              "      <th>Embarked</th>\n",
              "    </tr>\n",
              "  </thead>\n",
              "  <tbody>\n",
              "    <tr>\n",
              "      <th>0</th>\n",
              "      <td>1</td>\n",
              "      <td>0</td>\n",
              "      <td>3</td>\n",
              "      <td>Braund, Mr. Owen Harris</td>\n",
              "      <td>male</td>\n",
              "      <td>22.0</td>\n",
              "      <td>1</td>\n",
              "      <td>0</td>\n",
              "      <td>A/5 21171</td>\n",
              "      <td>7.2500</td>\n",
              "      <td>NaN</td>\n",
              "      <td>S</td>\n",
              "    </tr>\n",
              "    <tr>\n",
              "      <th>1</th>\n",
              "      <td>2</td>\n",
              "      <td>1</td>\n",
              "      <td>1</td>\n",
              "      <td>Cumings, Mrs. John Bradley (Florence Briggs Th...</td>\n",
              "      <td>female</td>\n",
              "      <td>38.0</td>\n",
              "      <td>1</td>\n",
              "      <td>0</td>\n",
              "      <td>PC 17599</td>\n",
              "      <td>71.2833</td>\n",
              "      <td>C85</td>\n",
              "      <td>C</td>\n",
              "    </tr>\n",
              "    <tr>\n",
              "      <th>2</th>\n",
              "      <td>3</td>\n",
              "      <td>1</td>\n",
              "      <td>3</td>\n",
              "      <td>Heikkinen, Miss. Laina</td>\n",
              "      <td>female</td>\n",
              "      <td>26.0</td>\n",
              "      <td>0</td>\n",
              "      <td>0</td>\n",
              "      <td>STON/O2. 3101282</td>\n",
              "      <td>7.9250</td>\n",
              "      <td>NaN</td>\n",
              "      <td>S</td>\n",
              "    </tr>\n",
              "    <tr>\n",
              "      <th>3</th>\n",
              "      <td>4</td>\n",
              "      <td>1</td>\n",
              "      <td>1</td>\n",
              "      <td>Futrelle, Mrs. Jacques Heath (Lily May Peel)</td>\n",
              "      <td>female</td>\n",
              "      <td>35.0</td>\n",
              "      <td>1</td>\n",
              "      <td>0</td>\n",
              "      <td>113803</td>\n",
              "      <td>53.1000</td>\n",
              "      <td>C123</td>\n",
              "      <td>S</td>\n",
              "    </tr>\n",
              "    <tr>\n",
              "      <th>4</th>\n",
              "      <td>5</td>\n",
              "      <td>0</td>\n",
              "      <td>3</td>\n",
              "      <td>Allen, Mr. William Henry</td>\n",
              "      <td>male</td>\n",
              "      <td>35.0</td>\n",
              "      <td>0</td>\n",
              "      <td>0</td>\n",
              "      <td>373450</td>\n",
              "      <td>8.0500</td>\n",
              "      <td>NaN</td>\n",
              "      <td>S</td>\n",
              "    </tr>\n",
              "    <tr>\n",
              "      <th>...</th>\n",
              "      <td>...</td>\n",
              "      <td>...</td>\n",
              "      <td>...</td>\n",
              "      <td>...</td>\n",
              "      <td>...</td>\n",
              "      <td>...</td>\n",
              "      <td>...</td>\n",
              "      <td>...</td>\n",
              "      <td>...</td>\n",
              "      <td>...</td>\n",
              "      <td>...</td>\n",
              "      <td>...</td>\n",
              "    </tr>\n",
              "    <tr>\n",
              "      <th>886</th>\n",
              "      <td>887</td>\n",
              "      <td>0</td>\n",
              "      <td>2</td>\n",
              "      <td>Montvila, Rev. Juozas</td>\n",
              "      <td>male</td>\n",
              "      <td>27.0</td>\n",
              "      <td>0</td>\n",
              "      <td>0</td>\n",
              "      <td>211536</td>\n",
              "      <td>13.0000</td>\n",
              "      <td>NaN</td>\n",
              "      <td>S</td>\n",
              "    </tr>\n",
              "    <tr>\n",
              "      <th>887</th>\n",
              "      <td>888</td>\n",
              "      <td>1</td>\n",
              "      <td>1</td>\n",
              "      <td>Graham, Miss. Margaret Edith</td>\n",
              "      <td>female</td>\n",
              "      <td>19.0</td>\n",
              "      <td>0</td>\n",
              "      <td>0</td>\n",
              "      <td>112053</td>\n",
              "      <td>30.0000</td>\n",
              "      <td>B42</td>\n",
              "      <td>S</td>\n",
              "    </tr>\n",
              "    <tr>\n",
              "      <th>888</th>\n",
              "      <td>889</td>\n",
              "      <td>0</td>\n",
              "      <td>3</td>\n",
              "      <td>Johnston, Miss. Catherine Helen \"Carrie\"</td>\n",
              "      <td>female</td>\n",
              "      <td>NaN</td>\n",
              "      <td>1</td>\n",
              "      <td>2</td>\n",
              "      <td>W./C. 6607</td>\n",
              "      <td>23.4500</td>\n",
              "      <td>NaN</td>\n",
              "      <td>S</td>\n",
              "    </tr>\n",
              "    <tr>\n",
              "      <th>889</th>\n",
              "      <td>890</td>\n",
              "      <td>1</td>\n",
              "      <td>1</td>\n",
              "      <td>Behr, Mr. Karl Howell</td>\n",
              "      <td>male</td>\n",
              "      <td>26.0</td>\n",
              "      <td>0</td>\n",
              "      <td>0</td>\n",
              "      <td>111369</td>\n",
              "      <td>30.0000</td>\n",
              "      <td>C148</td>\n",
              "      <td>C</td>\n",
              "    </tr>\n",
              "    <tr>\n",
              "      <th>890</th>\n",
              "      <td>891</td>\n",
              "      <td>0</td>\n",
              "      <td>3</td>\n",
              "      <td>Dooley, Mr. Patrick</td>\n",
              "      <td>male</td>\n",
              "      <td>32.0</td>\n",
              "      <td>0</td>\n",
              "      <td>0</td>\n",
              "      <td>370376</td>\n",
              "      <td>7.7500</td>\n",
              "      <td>NaN</td>\n",
              "      <td>Q</td>\n",
              "    </tr>\n",
              "  </tbody>\n",
              "</table>\n",
              "<p>891 rows × 12 columns</p>\n",
              "</div>\n",
              "    <div class=\"colab-df-buttons\">\n",
              "\n",
              "  <div class=\"colab-df-container\">\n",
              "    <button class=\"colab-df-convert\" onclick=\"convertToInteractive('df-429ef049-d08d-4eb6-bcff-0ab7281dd2b3')\"\n",
              "            title=\"Convert this dataframe to an interactive table.\"\n",
              "            style=\"display:none;\">\n",
              "\n",
              "  <svg xmlns=\"http://www.w3.org/2000/svg\" height=\"24px\" viewBox=\"0 -960 960 960\">\n",
              "    <path d=\"M120-120v-720h720v720H120Zm60-500h600v-160H180v160Zm220 220h160v-160H400v160Zm0 220h160v-160H400v160ZM180-400h160v-160H180v160Zm440 0h160v-160H620v160ZM180-180h160v-160H180v160Zm440 0h160v-160H620v160Z\"/>\n",
              "  </svg>\n",
              "    </button>\n",
              "\n",
              "  <style>\n",
              "    .colab-df-container {\n",
              "      display:flex;\n",
              "      gap: 12px;\n",
              "    }\n",
              "\n",
              "    .colab-df-convert {\n",
              "      background-color: #E8F0FE;\n",
              "      border: none;\n",
              "      border-radius: 50%;\n",
              "      cursor: pointer;\n",
              "      display: none;\n",
              "      fill: #1967D2;\n",
              "      height: 32px;\n",
              "      padding: 0 0 0 0;\n",
              "      width: 32px;\n",
              "    }\n",
              "\n",
              "    .colab-df-convert:hover {\n",
              "      background-color: #E2EBFA;\n",
              "      box-shadow: 0px 1px 2px rgba(60, 64, 67, 0.3), 0px 1px 3px 1px rgba(60, 64, 67, 0.15);\n",
              "      fill: #174EA6;\n",
              "    }\n",
              "\n",
              "    .colab-df-buttons div {\n",
              "      margin-bottom: 4px;\n",
              "    }\n",
              "\n",
              "    [theme=dark] .colab-df-convert {\n",
              "      background-color: #3B4455;\n",
              "      fill: #D2E3FC;\n",
              "    }\n",
              "\n",
              "    [theme=dark] .colab-df-convert:hover {\n",
              "      background-color: #434B5C;\n",
              "      box-shadow: 0px 1px 3px 1px rgba(0, 0, 0, 0.15);\n",
              "      filter: drop-shadow(0px 1px 2px rgba(0, 0, 0, 0.3));\n",
              "      fill: #FFFFFF;\n",
              "    }\n",
              "  </style>\n",
              "\n",
              "    <script>\n",
              "      const buttonEl =\n",
              "        document.querySelector('#df-429ef049-d08d-4eb6-bcff-0ab7281dd2b3 button.colab-df-convert');\n",
              "      buttonEl.style.display =\n",
              "        google.colab.kernel.accessAllowed ? 'block' : 'none';\n",
              "\n",
              "      async function convertToInteractive(key) {\n",
              "        const element = document.querySelector('#df-429ef049-d08d-4eb6-bcff-0ab7281dd2b3');\n",
              "        const dataTable =\n",
              "          await google.colab.kernel.invokeFunction('convertToInteractive',\n",
              "                                                    [key], {});\n",
              "        if (!dataTable) return;\n",
              "\n",
              "        const docLinkHtml = 'Like what you see? Visit the ' +\n",
              "          '<a target=\"_blank\" href=https://colab.research.google.com/notebooks/data_table.ipynb>data table notebook</a>'\n",
              "          + ' to learn more about interactive tables.';\n",
              "        element.innerHTML = '';\n",
              "        dataTable['output_type'] = 'display_data';\n",
              "        await google.colab.output.renderOutput(dataTable, element);\n",
              "        const docLink = document.createElement('div');\n",
              "        docLink.innerHTML = docLinkHtml;\n",
              "        element.appendChild(docLink);\n",
              "      }\n",
              "    </script>\n",
              "  </div>\n",
              "\n",
              "\n",
              "    <div id=\"df-4e9aa4c2-d843-4d44-9684-407b35796c70\">\n",
              "      <button class=\"colab-df-quickchart\" onclick=\"quickchart('df-4e9aa4c2-d843-4d44-9684-407b35796c70')\"\n",
              "                title=\"Suggest charts\"\n",
              "                style=\"display:none;\">\n",
              "\n",
              "<svg xmlns=\"http://www.w3.org/2000/svg\" height=\"24px\"viewBox=\"0 0 24 24\"\n",
              "     width=\"24px\">\n",
              "    <g>\n",
              "        <path d=\"M19 3H5c-1.1 0-2 .9-2 2v14c0 1.1.9 2 2 2h14c1.1 0 2-.9 2-2V5c0-1.1-.9-2-2-2zM9 17H7v-7h2v7zm4 0h-2V7h2v10zm4 0h-2v-4h2v4z\"/>\n",
              "    </g>\n",
              "</svg>\n",
              "      </button>\n",
              "\n",
              "<style>\n",
              "  .colab-df-quickchart {\n",
              "      --bg-color: #E8F0FE;\n",
              "      --fill-color: #1967D2;\n",
              "      --hover-bg-color: #E2EBFA;\n",
              "      --hover-fill-color: #174EA6;\n",
              "      --disabled-fill-color: #AAA;\n",
              "      --disabled-bg-color: #DDD;\n",
              "  }\n",
              "\n",
              "  [theme=dark] .colab-df-quickchart {\n",
              "      --bg-color: #3B4455;\n",
              "      --fill-color: #D2E3FC;\n",
              "      --hover-bg-color: #434B5C;\n",
              "      --hover-fill-color: #FFFFFF;\n",
              "      --disabled-bg-color: #3B4455;\n",
              "      --disabled-fill-color: #666;\n",
              "  }\n",
              "\n",
              "  .colab-df-quickchart {\n",
              "    background-color: var(--bg-color);\n",
              "    border: none;\n",
              "    border-radius: 50%;\n",
              "    cursor: pointer;\n",
              "    display: none;\n",
              "    fill: var(--fill-color);\n",
              "    height: 32px;\n",
              "    padding: 0;\n",
              "    width: 32px;\n",
              "  }\n",
              "\n",
              "  .colab-df-quickchart:hover {\n",
              "    background-color: var(--hover-bg-color);\n",
              "    box-shadow: 0 1px 2px rgba(60, 64, 67, 0.3), 0 1px 3px 1px rgba(60, 64, 67, 0.15);\n",
              "    fill: var(--button-hover-fill-color);\n",
              "  }\n",
              "\n",
              "  .colab-df-quickchart-complete:disabled,\n",
              "  .colab-df-quickchart-complete:disabled:hover {\n",
              "    background-color: var(--disabled-bg-color);\n",
              "    fill: var(--disabled-fill-color);\n",
              "    box-shadow: none;\n",
              "  }\n",
              "\n",
              "  .colab-df-spinner {\n",
              "    border: 2px solid var(--fill-color);\n",
              "    border-color: transparent;\n",
              "    border-bottom-color: var(--fill-color);\n",
              "    animation:\n",
              "      spin 1s steps(1) infinite;\n",
              "  }\n",
              "\n",
              "  @keyframes spin {\n",
              "    0% {\n",
              "      border-color: transparent;\n",
              "      border-bottom-color: var(--fill-color);\n",
              "      border-left-color: var(--fill-color);\n",
              "    }\n",
              "    20% {\n",
              "      border-color: transparent;\n",
              "      border-left-color: var(--fill-color);\n",
              "      border-top-color: var(--fill-color);\n",
              "    }\n",
              "    30% {\n",
              "      border-color: transparent;\n",
              "      border-left-color: var(--fill-color);\n",
              "      border-top-color: var(--fill-color);\n",
              "      border-right-color: var(--fill-color);\n",
              "    }\n",
              "    40% {\n",
              "      border-color: transparent;\n",
              "      border-right-color: var(--fill-color);\n",
              "      border-top-color: var(--fill-color);\n",
              "    }\n",
              "    60% {\n",
              "      border-color: transparent;\n",
              "      border-right-color: var(--fill-color);\n",
              "    }\n",
              "    80% {\n",
              "      border-color: transparent;\n",
              "      border-right-color: var(--fill-color);\n",
              "      border-bottom-color: var(--fill-color);\n",
              "    }\n",
              "    90% {\n",
              "      border-color: transparent;\n",
              "      border-bottom-color: var(--fill-color);\n",
              "    }\n",
              "  }\n",
              "</style>\n",
              "\n",
              "      <script>\n",
              "        async function quickchart(key) {\n",
              "          const quickchartButtonEl =\n",
              "            document.querySelector('#' + key + ' button');\n",
              "          quickchartButtonEl.disabled = true;  // To prevent multiple clicks.\n",
              "          quickchartButtonEl.classList.add('colab-df-spinner');\n",
              "          try {\n",
              "            const charts = await google.colab.kernel.invokeFunction(\n",
              "                'suggestCharts', [key], {});\n",
              "          } catch (error) {\n",
              "            console.error('Error during call to suggestCharts:', error);\n",
              "          }\n",
              "          quickchartButtonEl.classList.remove('colab-df-spinner');\n",
              "          quickchartButtonEl.classList.add('colab-df-quickchart-complete');\n",
              "        }\n",
              "        (() => {\n",
              "          let quickchartButtonEl =\n",
              "            document.querySelector('#df-4e9aa4c2-d843-4d44-9684-407b35796c70 button');\n",
              "          quickchartButtonEl.style.display =\n",
              "            google.colab.kernel.accessAllowed ? 'block' : 'none';\n",
              "        })();\n",
              "      </script>\n",
              "    </div>\n",
              "\n",
              "  <div id=\"id_652809a5-ecae-4548-930e-0fcfd2dcd9c8\">\n",
              "    <style>\n",
              "      .colab-df-generate {\n",
              "        background-color: #E8F0FE;\n",
              "        border: none;\n",
              "        border-radius: 50%;\n",
              "        cursor: pointer;\n",
              "        display: none;\n",
              "        fill: #1967D2;\n",
              "        height: 32px;\n",
              "        padding: 0 0 0 0;\n",
              "        width: 32px;\n",
              "      }\n",
              "\n",
              "      .colab-df-generate:hover {\n",
              "        background-color: #E2EBFA;\n",
              "        box-shadow: 0px 1px 2px rgba(60, 64, 67, 0.3), 0px 1px 3px 1px rgba(60, 64, 67, 0.15);\n",
              "        fill: #174EA6;\n",
              "      }\n",
              "\n",
              "      [theme=dark] .colab-df-generate {\n",
              "        background-color: #3B4455;\n",
              "        fill: #D2E3FC;\n",
              "      }\n",
              "\n",
              "      [theme=dark] .colab-df-generate:hover {\n",
              "        background-color: #434B5C;\n",
              "        box-shadow: 0px 1px 3px 1px rgba(0, 0, 0, 0.15);\n",
              "        filter: drop-shadow(0px 1px 2px rgba(0, 0, 0, 0.3));\n",
              "        fill: #FFFFFF;\n",
              "      }\n",
              "    </style>\n",
              "    <button class=\"colab-df-generate\" onclick=\"generateWithVariable('titanic_df')\"\n",
              "            title=\"Generate code using this dataframe.\"\n",
              "            style=\"display:none;\">\n",
              "\n",
              "  <svg xmlns=\"http://www.w3.org/2000/svg\" height=\"24px\"viewBox=\"0 0 24 24\"\n",
              "       width=\"24px\">\n",
              "    <path d=\"M7,19H8.4L18.45,9,17,7.55,7,17.6ZM5,21V16.75L18.45,3.32a2,2,0,0,1,2.83,0l1.4,1.43a1.91,1.91,0,0,1,.58,1.4,1.91,1.91,0,0,1-.58,1.4L9.25,21ZM18.45,9,17,7.55Zm-12,3A5.31,5.31,0,0,0,4.9,8.1,5.31,5.31,0,0,0,1,6.5,5.31,5.31,0,0,0,4.9,4.9,5.31,5.31,0,0,0,6.5,1,5.31,5.31,0,0,0,8.1,4.9,5.31,5.31,0,0,0,12,6.5,5.46,5.46,0,0,0,6.5,12Z\"/>\n",
              "  </svg>\n",
              "    </button>\n",
              "    <script>\n",
              "      (() => {\n",
              "      const buttonEl =\n",
              "        document.querySelector('#id_652809a5-ecae-4548-930e-0fcfd2dcd9c8 button.colab-df-generate');\n",
              "      buttonEl.style.display =\n",
              "        google.colab.kernel.accessAllowed ? 'block' : 'none';\n",
              "\n",
              "      buttonEl.onclick = () => {\n",
              "        google.colab.notebook.generateWithVariable('titanic_df');\n",
              "      }\n",
              "      })();\n",
              "    </script>\n",
              "  </div>\n",
              "\n",
              "    </div>\n",
              "  </div>\n"
            ],
            "application/vnd.google.colaboratory.intrinsic+json": {
              "type": "dataframe",
              "variable_name": "titanic_df",
              "summary": "{\n  \"name\": \"titanic_df\",\n  \"rows\": 891,\n  \"fields\": [\n    {\n      \"column\": \"PassengerId\",\n      \"properties\": {\n        \"dtype\": \"number\",\n        \"std\": 257,\n        \"min\": 1,\n        \"max\": 891,\n        \"num_unique_values\": 891,\n        \"samples\": [\n          710,\n          440,\n          841\n        ],\n        \"semantic_type\": \"\",\n        \"description\": \"\"\n      }\n    },\n    {\n      \"column\": \"Survived\",\n      \"properties\": {\n        \"dtype\": \"number\",\n        \"std\": 0,\n        \"min\": 0,\n        \"max\": 1,\n        \"num_unique_values\": 2,\n        \"samples\": [\n          1,\n          0\n        ],\n        \"semantic_type\": \"\",\n        \"description\": \"\"\n      }\n    },\n    {\n      \"column\": \"Pclass\",\n      \"properties\": {\n        \"dtype\": \"number\",\n        \"std\": 0,\n        \"min\": 1,\n        \"max\": 3,\n        \"num_unique_values\": 3,\n        \"samples\": [\n          3,\n          1\n        ],\n        \"semantic_type\": \"\",\n        \"description\": \"\"\n      }\n    },\n    {\n      \"column\": \"Name\",\n      \"properties\": {\n        \"dtype\": \"string\",\n        \"num_unique_values\": 891,\n        \"samples\": [\n          \"Moubarek, Master. Halim Gonios (\\\"William George\\\")\",\n          \"Kvillner, Mr. Johan Henrik Johannesson\"\n        ],\n        \"semantic_type\": \"\",\n        \"description\": \"\"\n      }\n    },\n    {\n      \"column\": \"Sex\",\n      \"properties\": {\n        \"dtype\": \"category\",\n        \"num_unique_values\": 2,\n        \"samples\": [\n          \"female\",\n          \"male\"\n        ],\n        \"semantic_type\": \"\",\n        \"description\": \"\"\n      }\n    },\n    {\n      \"column\": \"Age\",\n      \"properties\": {\n        \"dtype\": \"number\",\n        \"std\": 14.526497332334044,\n        \"min\": 0.42,\n        \"max\": 80.0,\n        \"num_unique_values\": 88,\n        \"samples\": [\n          0.75,\n          22.0\n        ],\n        \"semantic_type\": \"\",\n        \"description\": \"\"\n      }\n    },\n    {\n      \"column\": \"SibSp\",\n      \"properties\": {\n        \"dtype\": \"number\",\n        \"std\": 1,\n        \"min\": 0,\n        \"max\": 8,\n        \"num_unique_values\": 7,\n        \"samples\": [\n          1,\n          0\n        ],\n        \"semantic_type\": \"\",\n        \"description\": \"\"\n      }\n    },\n    {\n      \"column\": \"Parch\",\n      \"properties\": {\n        \"dtype\": \"number\",\n        \"std\": 0,\n        \"min\": 0,\n        \"max\": 6,\n        \"num_unique_values\": 7,\n        \"samples\": [\n          0,\n          1\n        ],\n        \"semantic_type\": \"\",\n        \"description\": \"\"\n      }\n    },\n    {\n      \"column\": \"Ticket\",\n      \"properties\": {\n        \"dtype\": \"string\",\n        \"num_unique_values\": 681,\n        \"samples\": [\n          \"11774\",\n          \"248740\"\n        ],\n        \"semantic_type\": \"\",\n        \"description\": \"\"\n      }\n    },\n    {\n      \"column\": \"Fare\",\n      \"properties\": {\n        \"dtype\": \"number\",\n        \"std\": 49.693428597180905,\n        \"min\": 0.0,\n        \"max\": 512.3292,\n        \"num_unique_values\": 248,\n        \"samples\": [\n          11.2417,\n          51.8625\n        ],\n        \"semantic_type\": \"\",\n        \"description\": \"\"\n      }\n    },\n    {\n      \"column\": \"Cabin\",\n      \"properties\": {\n        \"dtype\": \"category\",\n        \"num_unique_values\": 147,\n        \"samples\": [\n          \"D45\",\n          \"B49\"\n        ],\n        \"semantic_type\": \"\",\n        \"description\": \"\"\n      }\n    },\n    {\n      \"column\": \"Embarked\",\n      \"properties\": {\n        \"dtype\": \"category\",\n        \"num_unique_values\": 3,\n        \"samples\": [\n          \"S\",\n          \"C\"\n        ],\n        \"semantic_type\": \"\",\n        \"description\": \"\"\n      }\n    }\n  ]\n}"
            }
          },
          "metadata": {},
          "execution_count": 38
        }
      ]
    },
    {
      "cell_type": "code",
      "source": [
        "titanic_df.head()"
      ],
      "metadata": {
        "colab": {
          "base_uri": "https://localhost:8080/",
          "height": 258
        },
        "id": "meqjU9dXj5Bf",
        "outputId": "53a92ecd-a106-4ec3-99a5-dc3c8f0bf57e"
      },
      "execution_count": 39,
      "outputs": [
        {
          "output_type": "execute_result",
          "data": {
            "text/plain": [
              "   PassengerId  Survived  Pclass  \\\n",
              "0            1         0       3   \n",
              "1            2         1       1   \n",
              "2            3         1       3   \n",
              "3            4         1       1   \n",
              "4            5         0       3   \n",
              "\n",
              "                                                Name     Sex   Age  SibSp  \\\n",
              "0                            Braund, Mr. Owen Harris    male  22.0      1   \n",
              "1  Cumings, Mrs. John Bradley (Florence Briggs Th...  female  38.0      1   \n",
              "2                             Heikkinen, Miss. Laina  female  26.0      0   \n",
              "3       Futrelle, Mrs. Jacques Heath (Lily May Peel)  female  35.0      1   \n",
              "4                           Allen, Mr. William Henry    male  35.0      0   \n",
              "\n",
              "   Parch            Ticket     Fare Cabin Embarked  \n",
              "0      0         A/5 21171   7.2500   NaN        S  \n",
              "1      0          PC 17599  71.2833   C85        C  \n",
              "2      0  STON/O2. 3101282   7.9250   NaN        S  \n",
              "3      0            113803  53.1000  C123        S  \n",
              "4      0            373450   8.0500   NaN        S  "
            ],
            "text/html": [
              "\n",
              "  <div id=\"df-9010a0e4-3179-4deb-9054-eca0a0ceac55\" class=\"colab-df-container\">\n",
              "    <div>\n",
              "<style scoped>\n",
              "    .dataframe tbody tr th:only-of-type {\n",
              "        vertical-align: middle;\n",
              "    }\n",
              "\n",
              "    .dataframe tbody tr th {\n",
              "        vertical-align: top;\n",
              "    }\n",
              "\n",
              "    .dataframe thead th {\n",
              "        text-align: right;\n",
              "    }\n",
              "</style>\n",
              "<table border=\"1\" class=\"dataframe\">\n",
              "  <thead>\n",
              "    <tr style=\"text-align: right;\">\n",
              "      <th></th>\n",
              "      <th>PassengerId</th>\n",
              "      <th>Survived</th>\n",
              "      <th>Pclass</th>\n",
              "      <th>Name</th>\n",
              "      <th>Sex</th>\n",
              "      <th>Age</th>\n",
              "      <th>SibSp</th>\n",
              "      <th>Parch</th>\n",
              "      <th>Ticket</th>\n",
              "      <th>Fare</th>\n",
              "      <th>Cabin</th>\n",
              "      <th>Embarked</th>\n",
              "    </tr>\n",
              "  </thead>\n",
              "  <tbody>\n",
              "    <tr>\n",
              "      <th>0</th>\n",
              "      <td>1</td>\n",
              "      <td>0</td>\n",
              "      <td>3</td>\n",
              "      <td>Braund, Mr. Owen Harris</td>\n",
              "      <td>male</td>\n",
              "      <td>22.0</td>\n",
              "      <td>1</td>\n",
              "      <td>0</td>\n",
              "      <td>A/5 21171</td>\n",
              "      <td>7.2500</td>\n",
              "      <td>NaN</td>\n",
              "      <td>S</td>\n",
              "    </tr>\n",
              "    <tr>\n",
              "      <th>1</th>\n",
              "      <td>2</td>\n",
              "      <td>1</td>\n",
              "      <td>1</td>\n",
              "      <td>Cumings, Mrs. John Bradley (Florence Briggs Th...</td>\n",
              "      <td>female</td>\n",
              "      <td>38.0</td>\n",
              "      <td>1</td>\n",
              "      <td>0</td>\n",
              "      <td>PC 17599</td>\n",
              "      <td>71.2833</td>\n",
              "      <td>C85</td>\n",
              "      <td>C</td>\n",
              "    </tr>\n",
              "    <tr>\n",
              "      <th>2</th>\n",
              "      <td>3</td>\n",
              "      <td>1</td>\n",
              "      <td>3</td>\n",
              "      <td>Heikkinen, Miss. Laina</td>\n",
              "      <td>female</td>\n",
              "      <td>26.0</td>\n",
              "      <td>0</td>\n",
              "      <td>0</td>\n",
              "      <td>STON/O2. 3101282</td>\n",
              "      <td>7.9250</td>\n",
              "      <td>NaN</td>\n",
              "      <td>S</td>\n",
              "    </tr>\n",
              "    <tr>\n",
              "      <th>3</th>\n",
              "      <td>4</td>\n",
              "      <td>1</td>\n",
              "      <td>1</td>\n",
              "      <td>Futrelle, Mrs. Jacques Heath (Lily May Peel)</td>\n",
              "      <td>female</td>\n",
              "      <td>35.0</td>\n",
              "      <td>1</td>\n",
              "      <td>0</td>\n",
              "      <td>113803</td>\n",
              "      <td>53.1000</td>\n",
              "      <td>C123</td>\n",
              "      <td>S</td>\n",
              "    </tr>\n",
              "    <tr>\n",
              "      <th>4</th>\n",
              "      <td>5</td>\n",
              "      <td>0</td>\n",
              "      <td>3</td>\n",
              "      <td>Allen, Mr. William Henry</td>\n",
              "      <td>male</td>\n",
              "      <td>35.0</td>\n",
              "      <td>0</td>\n",
              "      <td>0</td>\n",
              "      <td>373450</td>\n",
              "      <td>8.0500</td>\n",
              "      <td>NaN</td>\n",
              "      <td>S</td>\n",
              "    </tr>\n",
              "  </tbody>\n",
              "</table>\n",
              "</div>\n",
              "    <div class=\"colab-df-buttons\">\n",
              "\n",
              "  <div class=\"colab-df-container\">\n",
              "    <button class=\"colab-df-convert\" onclick=\"convertToInteractive('df-9010a0e4-3179-4deb-9054-eca0a0ceac55')\"\n",
              "            title=\"Convert this dataframe to an interactive table.\"\n",
              "            style=\"display:none;\">\n",
              "\n",
              "  <svg xmlns=\"http://www.w3.org/2000/svg\" height=\"24px\" viewBox=\"0 -960 960 960\">\n",
              "    <path d=\"M120-120v-720h720v720H120Zm60-500h600v-160H180v160Zm220 220h160v-160H400v160Zm0 220h160v-160H400v160ZM180-400h160v-160H180v160Zm440 0h160v-160H620v160ZM180-180h160v-160H180v160Zm440 0h160v-160H620v160Z\"/>\n",
              "  </svg>\n",
              "    </button>\n",
              "\n",
              "  <style>\n",
              "    .colab-df-container {\n",
              "      display:flex;\n",
              "      gap: 12px;\n",
              "    }\n",
              "\n",
              "    .colab-df-convert {\n",
              "      background-color: #E8F0FE;\n",
              "      border: none;\n",
              "      border-radius: 50%;\n",
              "      cursor: pointer;\n",
              "      display: none;\n",
              "      fill: #1967D2;\n",
              "      height: 32px;\n",
              "      padding: 0 0 0 0;\n",
              "      width: 32px;\n",
              "    }\n",
              "\n",
              "    .colab-df-convert:hover {\n",
              "      background-color: #E2EBFA;\n",
              "      box-shadow: 0px 1px 2px rgba(60, 64, 67, 0.3), 0px 1px 3px 1px rgba(60, 64, 67, 0.15);\n",
              "      fill: #174EA6;\n",
              "    }\n",
              "\n",
              "    .colab-df-buttons div {\n",
              "      margin-bottom: 4px;\n",
              "    }\n",
              "\n",
              "    [theme=dark] .colab-df-convert {\n",
              "      background-color: #3B4455;\n",
              "      fill: #D2E3FC;\n",
              "    }\n",
              "\n",
              "    [theme=dark] .colab-df-convert:hover {\n",
              "      background-color: #434B5C;\n",
              "      box-shadow: 0px 1px 3px 1px rgba(0, 0, 0, 0.15);\n",
              "      filter: drop-shadow(0px 1px 2px rgba(0, 0, 0, 0.3));\n",
              "      fill: #FFFFFF;\n",
              "    }\n",
              "  </style>\n",
              "\n",
              "    <script>\n",
              "      const buttonEl =\n",
              "        document.querySelector('#df-9010a0e4-3179-4deb-9054-eca0a0ceac55 button.colab-df-convert');\n",
              "      buttonEl.style.display =\n",
              "        google.colab.kernel.accessAllowed ? 'block' : 'none';\n",
              "\n",
              "      async function convertToInteractive(key) {\n",
              "        const element = document.querySelector('#df-9010a0e4-3179-4deb-9054-eca0a0ceac55');\n",
              "        const dataTable =\n",
              "          await google.colab.kernel.invokeFunction('convertToInteractive',\n",
              "                                                    [key], {});\n",
              "        if (!dataTable) return;\n",
              "\n",
              "        const docLinkHtml = 'Like what you see? Visit the ' +\n",
              "          '<a target=\"_blank\" href=https://colab.research.google.com/notebooks/data_table.ipynb>data table notebook</a>'\n",
              "          + ' to learn more about interactive tables.';\n",
              "        element.innerHTML = '';\n",
              "        dataTable['output_type'] = 'display_data';\n",
              "        await google.colab.output.renderOutput(dataTable, element);\n",
              "        const docLink = document.createElement('div');\n",
              "        docLink.innerHTML = docLinkHtml;\n",
              "        element.appendChild(docLink);\n",
              "      }\n",
              "    </script>\n",
              "  </div>\n",
              "\n",
              "\n",
              "    <div id=\"df-c0b1d05d-40f0-4f8d-9079-f9d6e50c83e1\">\n",
              "      <button class=\"colab-df-quickchart\" onclick=\"quickchart('df-c0b1d05d-40f0-4f8d-9079-f9d6e50c83e1')\"\n",
              "                title=\"Suggest charts\"\n",
              "                style=\"display:none;\">\n",
              "\n",
              "<svg xmlns=\"http://www.w3.org/2000/svg\" height=\"24px\"viewBox=\"0 0 24 24\"\n",
              "     width=\"24px\">\n",
              "    <g>\n",
              "        <path d=\"M19 3H5c-1.1 0-2 .9-2 2v14c0 1.1.9 2 2 2h14c1.1 0 2-.9 2-2V5c0-1.1-.9-2-2-2zM9 17H7v-7h2v7zm4 0h-2V7h2v10zm4 0h-2v-4h2v4z\"/>\n",
              "    </g>\n",
              "</svg>\n",
              "      </button>\n",
              "\n",
              "<style>\n",
              "  .colab-df-quickchart {\n",
              "      --bg-color: #E8F0FE;\n",
              "      --fill-color: #1967D2;\n",
              "      --hover-bg-color: #E2EBFA;\n",
              "      --hover-fill-color: #174EA6;\n",
              "      --disabled-fill-color: #AAA;\n",
              "      --disabled-bg-color: #DDD;\n",
              "  }\n",
              "\n",
              "  [theme=dark] .colab-df-quickchart {\n",
              "      --bg-color: #3B4455;\n",
              "      --fill-color: #D2E3FC;\n",
              "      --hover-bg-color: #434B5C;\n",
              "      --hover-fill-color: #FFFFFF;\n",
              "      --disabled-bg-color: #3B4455;\n",
              "      --disabled-fill-color: #666;\n",
              "  }\n",
              "\n",
              "  .colab-df-quickchart {\n",
              "    background-color: var(--bg-color);\n",
              "    border: none;\n",
              "    border-radius: 50%;\n",
              "    cursor: pointer;\n",
              "    display: none;\n",
              "    fill: var(--fill-color);\n",
              "    height: 32px;\n",
              "    padding: 0;\n",
              "    width: 32px;\n",
              "  }\n",
              "\n",
              "  .colab-df-quickchart:hover {\n",
              "    background-color: var(--hover-bg-color);\n",
              "    box-shadow: 0 1px 2px rgba(60, 64, 67, 0.3), 0 1px 3px 1px rgba(60, 64, 67, 0.15);\n",
              "    fill: var(--button-hover-fill-color);\n",
              "  }\n",
              "\n",
              "  .colab-df-quickchart-complete:disabled,\n",
              "  .colab-df-quickchart-complete:disabled:hover {\n",
              "    background-color: var(--disabled-bg-color);\n",
              "    fill: var(--disabled-fill-color);\n",
              "    box-shadow: none;\n",
              "  }\n",
              "\n",
              "  .colab-df-spinner {\n",
              "    border: 2px solid var(--fill-color);\n",
              "    border-color: transparent;\n",
              "    border-bottom-color: var(--fill-color);\n",
              "    animation:\n",
              "      spin 1s steps(1) infinite;\n",
              "  }\n",
              "\n",
              "  @keyframes spin {\n",
              "    0% {\n",
              "      border-color: transparent;\n",
              "      border-bottom-color: var(--fill-color);\n",
              "      border-left-color: var(--fill-color);\n",
              "    }\n",
              "    20% {\n",
              "      border-color: transparent;\n",
              "      border-left-color: var(--fill-color);\n",
              "      border-top-color: var(--fill-color);\n",
              "    }\n",
              "    30% {\n",
              "      border-color: transparent;\n",
              "      border-left-color: var(--fill-color);\n",
              "      border-top-color: var(--fill-color);\n",
              "      border-right-color: var(--fill-color);\n",
              "    }\n",
              "    40% {\n",
              "      border-color: transparent;\n",
              "      border-right-color: var(--fill-color);\n",
              "      border-top-color: var(--fill-color);\n",
              "    }\n",
              "    60% {\n",
              "      border-color: transparent;\n",
              "      border-right-color: var(--fill-color);\n",
              "    }\n",
              "    80% {\n",
              "      border-color: transparent;\n",
              "      border-right-color: var(--fill-color);\n",
              "      border-bottom-color: var(--fill-color);\n",
              "    }\n",
              "    90% {\n",
              "      border-color: transparent;\n",
              "      border-bottom-color: var(--fill-color);\n",
              "    }\n",
              "  }\n",
              "</style>\n",
              "\n",
              "      <script>\n",
              "        async function quickchart(key) {\n",
              "          const quickchartButtonEl =\n",
              "            document.querySelector('#' + key + ' button');\n",
              "          quickchartButtonEl.disabled = true;  // To prevent multiple clicks.\n",
              "          quickchartButtonEl.classList.add('colab-df-spinner');\n",
              "          try {\n",
              "            const charts = await google.colab.kernel.invokeFunction(\n",
              "                'suggestCharts', [key], {});\n",
              "          } catch (error) {\n",
              "            console.error('Error during call to suggestCharts:', error);\n",
              "          }\n",
              "          quickchartButtonEl.classList.remove('colab-df-spinner');\n",
              "          quickchartButtonEl.classList.add('colab-df-quickchart-complete');\n",
              "        }\n",
              "        (() => {\n",
              "          let quickchartButtonEl =\n",
              "            document.querySelector('#df-c0b1d05d-40f0-4f8d-9079-f9d6e50c83e1 button');\n",
              "          quickchartButtonEl.style.display =\n",
              "            google.colab.kernel.accessAllowed ? 'block' : 'none';\n",
              "        })();\n",
              "      </script>\n",
              "    </div>\n",
              "\n",
              "    </div>\n",
              "  </div>\n"
            ],
            "application/vnd.google.colaboratory.intrinsic+json": {
              "type": "dataframe",
              "variable_name": "titanic_df",
              "summary": "{\n  \"name\": \"titanic_df\",\n  \"rows\": 891,\n  \"fields\": [\n    {\n      \"column\": \"PassengerId\",\n      \"properties\": {\n        \"dtype\": \"number\",\n        \"std\": 257,\n        \"min\": 1,\n        \"max\": 891,\n        \"num_unique_values\": 891,\n        \"samples\": [\n          710,\n          440,\n          841\n        ],\n        \"semantic_type\": \"\",\n        \"description\": \"\"\n      }\n    },\n    {\n      \"column\": \"Survived\",\n      \"properties\": {\n        \"dtype\": \"number\",\n        \"std\": 0,\n        \"min\": 0,\n        \"max\": 1,\n        \"num_unique_values\": 2,\n        \"samples\": [\n          1,\n          0\n        ],\n        \"semantic_type\": \"\",\n        \"description\": \"\"\n      }\n    },\n    {\n      \"column\": \"Pclass\",\n      \"properties\": {\n        \"dtype\": \"number\",\n        \"std\": 0,\n        \"min\": 1,\n        \"max\": 3,\n        \"num_unique_values\": 3,\n        \"samples\": [\n          3,\n          1\n        ],\n        \"semantic_type\": \"\",\n        \"description\": \"\"\n      }\n    },\n    {\n      \"column\": \"Name\",\n      \"properties\": {\n        \"dtype\": \"string\",\n        \"num_unique_values\": 891,\n        \"samples\": [\n          \"Moubarek, Master. Halim Gonios (\\\"William George\\\")\",\n          \"Kvillner, Mr. Johan Henrik Johannesson\"\n        ],\n        \"semantic_type\": \"\",\n        \"description\": \"\"\n      }\n    },\n    {\n      \"column\": \"Sex\",\n      \"properties\": {\n        \"dtype\": \"category\",\n        \"num_unique_values\": 2,\n        \"samples\": [\n          \"female\",\n          \"male\"\n        ],\n        \"semantic_type\": \"\",\n        \"description\": \"\"\n      }\n    },\n    {\n      \"column\": \"Age\",\n      \"properties\": {\n        \"dtype\": \"number\",\n        \"std\": 14.526497332334044,\n        \"min\": 0.42,\n        \"max\": 80.0,\n        \"num_unique_values\": 88,\n        \"samples\": [\n          0.75,\n          22.0\n        ],\n        \"semantic_type\": \"\",\n        \"description\": \"\"\n      }\n    },\n    {\n      \"column\": \"SibSp\",\n      \"properties\": {\n        \"dtype\": \"number\",\n        \"std\": 1,\n        \"min\": 0,\n        \"max\": 8,\n        \"num_unique_values\": 7,\n        \"samples\": [\n          1,\n          0\n        ],\n        \"semantic_type\": \"\",\n        \"description\": \"\"\n      }\n    },\n    {\n      \"column\": \"Parch\",\n      \"properties\": {\n        \"dtype\": \"number\",\n        \"std\": 0,\n        \"min\": 0,\n        \"max\": 6,\n        \"num_unique_values\": 7,\n        \"samples\": [\n          0,\n          1\n        ],\n        \"semantic_type\": \"\",\n        \"description\": \"\"\n      }\n    },\n    {\n      \"column\": \"Ticket\",\n      \"properties\": {\n        \"dtype\": \"string\",\n        \"num_unique_values\": 681,\n        \"samples\": [\n          \"11774\",\n          \"248740\"\n        ],\n        \"semantic_type\": \"\",\n        \"description\": \"\"\n      }\n    },\n    {\n      \"column\": \"Fare\",\n      \"properties\": {\n        \"dtype\": \"number\",\n        \"std\": 49.693428597180905,\n        \"min\": 0.0,\n        \"max\": 512.3292,\n        \"num_unique_values\": 248,\n        \"samples\": [\n          11.2417,\n          51.8625\n        ],\n        \"semantic_type\": \"\",\n        \"description\": \"\"\n      }\n    },\n    {\n      \"column\": \"Cabin\",\n      \"properties\": {\n        \"dtype\": \"category\",\n        \"num_unique_values\": 147,\n        \"samples\": [\n          \"D45\",\n          \"B49\"\n        ],\n        \"semantic_type\": \"\",\n        \"description\": \"\"\n      }\n    },\n    {\n      \"column\": \"Embarked\",\n      \"properties\": {\n        \"dtype\": \"category\",\n        \"num_unique_values\": 3,\n        \"samples\": [\n          \"S\",\n          \"C\"\n        ],\n        \"semantic_type\": \"\",\n        \"description\": \"\"\n      }\n    }\n  ]\n}"
            }
          },
          "metadata": {},
          "execution_count": 39
        }
      ]
    },
    {
      "cell_type": "code",
      "source": [
        "# How many features are there?\n",
        "print(f\"The number of features in the dataset is: {titanic_df.shape[1]}\")"
      ],
      "metadata": {
        "colab": {
          "base_uri": "https://localhost:8080/"
        },
        "id": "H2vvVHhDj97j",
        "outputId": "b2e630a1-4c6b-4232-ba1b-bf004a3af0ce"
      },
      "execution_count": 40,
      "outputs": [
        {
          "output_type": "stream",
          "name": "stdout",
          "text": [
            "The number of features in the dataset is: 12\n"
          ]
        }
      ]
    },
    {
      "cell_type": "markdown",
      "metadata": {
        "id": "C3nsTblVS8jc"
      },
      "source": [
        "##### 1)\n",
        "*   Select the features corresponding to the Age and to the Survival\n",
        "*   Eliminate artifacts (you can use `dropna(how='any')` to eliminate passengers with unknown data)\n",
        "*   Compute the percentage of survivors $P(Survived=1)$"
      ]
    },
    {
      "cell_type": "code",
      "execution_count": 43,
      "metadata": {
        "id": "6Va8RaSEXZBD",
        "colab": {
          "base_uri": "https://localhost:8080/"
        },
        "outputId": "4a1fce55-6c2d-494a-84e2-b86d39fba6e6"
      },
      "outputs": [
        {
          "output_type": "stream",
          "name": "stdout",
          "text": [
            "The percentage of survivors is: 0.4061624649859944\n",
            "The percentage of survivors is(another method): 40.62%\n"
          ]
        }
      ],
      "source": [
        "# Select the features corresponding to the Age and to the Survival\n",
        "data_titanic = titanic_df[['Age', 'Survived']]\n",
        "\n",
        "# Eliminate artifacts (remove rows with any missing values)\n",
        "data_titanic_cleaned = data_titanic.dropna(how='any')\n",
        "\n",
        "\n",
        "survivors = data_titanic_cleaned[data_titanic_cleaned['Survived'] == 1]\n",
        "dead = data_titanic_cleaned[data_titanic_cleaned['Survived'] == 0]\n",
        "\n",
        "# Compute the percentage of survivors P(Survived=1)\n",
        "print(f\"The percentage of survivors is: {len(survivors)/(len(survivors) + len(dead))}\")\n",
        "\n",
        "# Another method\n",
        "percentage_survivors = data_titanic_cleaned['Survived'].mean() * 100\n",
        "\n",
        "print(f\"The percentage of survivors is(another method): {percentage_survivors:.2f}%\")\n"
      ]
    },
    {
      "cell_type": "markdown",
      "metadata": {
        "id": "bC61uafPzBYb"
      },
      "source": [
        "##### 2)\n",
        "\n",
        "*   Plot, using `hist`, the distribution of ages, separating the Survivers from the Dead\n",
        "*   Compute the difference between the average age of the two groups\n",
        "\n"
      ]
    },
    {
      "cell_type": "code",
      "execution_count": 49,
      "metadata": {
        "id": "zaOdzqFNXZBK",
        "colab": {
          "base_uri": "https://localhost:8080/",
          "height": 489
        },
        "outputId": "bf53ae27-c1ff-4f31-e9b8-899362572e1a"
      },
      "outputs": [
        {
          "output_type": "display_data",
          "data": {
            "text/plain": [
              "<Figure size 2000x700 with 2 Axes>"
            ],
            "image/png": "[encoded data removed]"
          },
          "metadata": {}
        }
      ],
      "source": [
        "# Separate survivors and those who died\n",
        "survivors_age = data_titanic_cleaned[data_titanic_cleaned['Survived'] == 1]['Age']\n",
        "dead_age = data_titanic_cleaned[data_titanic_cleaned['Survived'] == 0]['Age']\n",
        "\n",
        "# Plot the age distribution\n",
        "fig, ax = plt.subplots(1, 2, figsize=(20, 7), sharex=True)\n",
        "plt.suptitle(\"Age Distribution by Survival\", fontsize=16)\n",
        "\n",
        "ax[0].set_title(\"Survivors\", fontsize=14)\n",
        "ax[0].hist(survivors_age, color='darkblue')\n",
        "ax[0].set_xlabel(\"Age\", fontsize=14)\n",
        "ax[0].set_ylabel(\"# (people)\", fontsize=14)\n",
        "\n",
        "ax[1].set_title(\"Died\", fontsize=14)\n",
        "ax[1].hist(dead_age, color='darkred')\n",
        "ax[1].set_xlabel(\"Age\", fontsize=14)\n",
        "ax[1].set_ylabel(\"# (people)\", fontsize=14)\n",
        "\n",
        "plt.show()\n"
      ]
    },
    {
      "cell_type": "code",
      "source": [
        "# Compute the difference between the average age of the two groups\n",
        "avg_survivors_age = np.mean(survivors_age)\n",
        "avg_dead_age = np.mean(dead_age)\n",
        "\n",
        "age_difference = avg_survivors_age - avg_dead_age\n",
        "\n",
        "print(f\"The difference in average age between survivors and those who died is: {age_difference}\")"
      ],
      "metadata": {
        "colab": {
          "base_uri": "https://localhost:8080/"
        },
        "id": "wuak3P5moZP8",
        "outputId": "8bdfe382-0b0b-4474-e747-43777bee8da2"
      },
      "execution_count": 47,
      "outputs": [
        {
          "output_type": "stream",
          "name": "stdout",
          "text": [
            "The difference in average age between survivors and those who died is: -2.282489590110604\n"
          ]
        }
      ]
    },
    {
      "cell_type": "markdown",
      "metadata": {
        "id": "GC5uKfXqQDjs"
      },
      "source": [
        "##### 3)\n",
        "*   Select the features corresponding to the Fare and to the Survival\n",
        "*   Eliminate artifacts\n",
        "*   Compute the difference between the average fare of the two groups"
      ]
    },
    {
      "cell_type": "code",
      "execution_count": 51,
      "metadata": {
        "id": "RS8RpMGbP_Zt",
        "colab": {
          "base_uri": "https://localhost:8080/"
        },
        "outputId": "cf895e9f-310a-44d2-ad19-ec9fb2270c77"
      },
      "outputs": [
        {
          "output_type": "stream",
          "name": "stdout",
          "text": [
            "The difference in average fare between survivors and those who died is: 26.27752071709328\n"
          ]
        }
      ],
      "source": [
        "# Select the features\n",
        "titanic_fare_survival = titanic_df[['Fare', 'Survived']]\n",
        "\n",
        "# Eliminate artifacts\n",
        "titanic_fare_survival_cleaned = titanic_fare_survival.dropna(how='any')\n",
        "\n",
        "# Separate survivors and those who died based on Fare\n",
        "survivors_fare = titanic_fare_survival_cleaned[titanic_fare_survival_cleaned['Survived'] == 1]['Fare']\n",
        "dead_fare = titanic_fare_survival_cleaned[titanic_fare_survival_cleaned['Survived'] == 0]['Fare']\n",
        "\n",
        "# Compute the difference between the average fare of the two groups\n",
        "avg_survivors_fare = np.mean(survivors_fare)\n",
        "avg_dead_fare = np.mean(dead_fare)\n",
        "\n",
        "fare_difference = avg_survivors_fare - avg_dead_fare\n",
        "\n",
        "print(f\"The difference in average fare between survivors and those who died is: {fare_difference}\")"
      ]
    },
    {
      "cell_type": "markdown",
      "metadata": {
        "id": "8e5e01nhXZBQ"
      },
      "source": [
        "##### 4) Use Resampling to test the **Null hypothesis**"
      ]
    },
    {
      "cell_type": "code",
      "execution_count": 52,
      "metadata": {
        "id": "upAAfuCqXZBQ",
        "colab": {
          "base_uri": "https://localhost:8080/"
        },
        "outputId": "79fcb8ab-a0c8-4a6f-a860-772b3dd141e1"
      },
      "outputs": [
        {
          "output_type": "stream",
          "name": "stdout",
          "text": [
            "The difference in average age between the shuffled groups was greater than -2.28 9823 times out of 10000 trials.\n"
          ]
        }
      ],
      "source": [
        "# Combine the age data from survivors and those who died\n",
        "global_age_stat = list(survivors_age) + list(dead_age)\n",
        "\n",
        "# Number of trials for resampling\n",
        "trials = 10000\n",
        "count = 0\n",
        "\n",
        "# Observed difference in average age\n",
        "observed_age_difference = avg_survivors_age - avg_dead_age\n",
        "\n",
        "for _ in range(trials):\n",
        "    # Compute shuffled ages\n",
        "    random.shuffle(global_age_stat)\n",
        "\n",
        "    # Split into two groups with original sizes\n",
        "    shuffled_survivors_age = global_age_stat[:len(survivors_age)]\n",
        "    shuffled_dead_age = global_age_stat[len(survivors_age):]\n",
        "\n",
        "    # Compute average of shuffled groups\n",
        "    avg_shuffled_survivors = sum(shuffled_survivors_age) / len(shuffled_survivors_age)\n",
        "    avg_shuffled_dead = sum(shuffled_dead_age) / len(shuffled_dead_age)\n",
        "\n",
        "    # Compute new shuffled difference\n",
        "    diff = avg_shuffled_survivors - avg_shuffled_dead\n",
        "\n",
        "    # Check if the shuffled difference is greater than the observed difference\n",
        "    if diff > observed_age_difference:\n",
        "        count += 1\n",
        "\n",
        "print(f\"The difference in average age between the shuffled groups was greater than {observed_age_difference:.2f} {count} times out of {trials} trials.\")"
      ]
    },
    {
      "cell_type": "markdown",
      "metadata": {
        "id": "Ih4zNu3rXZBU"
      },
      "source": [
        "We could safely $\\textbf{reject}$ the null hypothesis"
      ]
    },
    {
      "cell_type": "markdown",
      "metadata": {
        "id": "pvogP9w1faHA"
      },
      "source": [
        "##### 5) Concentrate on the Fare feature and compute the median correspondent to the two groups"
      ]
    },
    {
      "cell_type": "code",
      "execution_count": 53,
      "metadata": {
        "id": "1nZdUyp_faHB",
        "colab": {
          "base_uri": "https://localhost:8080/"
        },
        "outputId": "aa8e4c97-b96a-4978-ba7c-04c9995e2bd8"
      },
      "outputs": [
        {
          "output_type": "stream",
          "name": "stdout",
          "text": [
            "The median fare for survivors is: 26.00\n",
            "The median fare for those who died is: 10.50\n"
          ]
        }
      ],
      "source": [
        "# Compute the median fare for survivors and those who died\n",
        "median_survivors_fare = np.median(survivors_fare)\n",
        "median_dead_fare = np.median(dead_fare)\n",
        "\n",
        "print(f\"The median fare for survivors is: {median_survivors_fare:.2f}\")\n",
        "print(f\"The median fare for those who died is: {median_dead_fare:.2f}\")"
      ]
    },
    {
      "cell_type": "markdown",
      "metadata": {
        "id": "ccfakMOlfaHK"
      },
      "source": [
        "##### 6) Now we use **bootstrap** for each of the two groups:\n",
        "\n",
        "* Sample the Fares 10000 times with replacement (with the same sample size) using `np.random.choice`\n",
        "* Compute the Confidence Interval (95%) for the median using `np.percentile`"
      ]
    },
    {
      "cell_type": "code",
      "execution_count": 54,
      "metadata": {
        "id": "fkEPgn_2faHV",
        "colab": {
          "base_uri": "https://localhost:8080/"
        },
        "outputId": "ef5c6528-d4ef-4c8b-b74c-cc90a8ea5d0a"
      },
      "outputs": [
        {
          "output_type": "stream",
          "name": "stdout",
          "text": [
            "The C.I. for the median fare of survivors computed with bootstrap is [23.00,26.55] \n",
            "The C.I. for the median fare of those who died computed with bootstrap is [9.22,13.00] \n"
          ]
        }
      ],
      "source": [
        "reps = 10000\n",
        "\n",
        "# Bootstrap for survivors' fare\n",
        "n_survivors_fare = len(survivors_fare)\n",
        "boot_survivors_fare = np.random.choice(survivors_fare, (reps, n_survivors_fare), replace=True)\n",
        "boot_survivors_fare_medians = np.median(boot_survivors_fare, axis=1)\n",
        "survivors_fare_median_CI = np.percentile(boot_survivors_fare_medians, [2.5, 97.5])\n",
        "\n",
        "# For dead's fare\n",
        "n_dead_fare = len(dead_fare)\n",
        "boot_dead_fare = np.random.choice(dead_fare, (reps, n_dead_fare), replace=True)\n",
        "boot_dead_fare_medians = np.median(boot_dead_fare, axis=1)\n",
        "dead_fare_median_CI = np.percentile(boot_dead_fare_medians, [2.5, 97.5])\n",
        "\n",
        "print(f\"The C.I. for the median fare of survivors computed with bootstrap is [{survivors_fare_median_CI[0]:.2f},{survivors_fare_median_CI[1]:.2f}] \")\n",
        "print(f\"The C.I. for the median fare of those who died computed with bootstrap is [{dead_fare_median_CI[0]:.2f},{dead_fare_median_CI[1]:.2f}] \")"
      ]
    },
    {
      "cell_type": "markdown",
      "metadata": {
        "id": "YBlXh4CG6INX"
      },
      "source": [
        "##### 7)\n",
        "\n",
        "* Plot the median rate distribution, including the relative confidence intervals\n",
        "* What can we say?"
      ]
    },
    {
      "cell_type": "code",
      "execution_count": 64,
      "metadata": {
        "id": "qbvv5undfaHb",
        "colab": {
          "base_uri": "https://localhost:8080/",
          "height": 558
        },
        "outputId": "979b7d88-a02f-4420-8a60-e258c747b9cc"
      },
      "outputs": [
        {
          "output_type": "stream",
          "name": "stdout",
          "text": [
            "The blue lines show the range (CI) of typical median fare for people who survived.\n",
            "The red lines show the range of typical median fare for people who died.\n",
            "These two ranges (CI) do not overlap each other. They are from each other.\n",
            "This means that people who paid more for their ticket (higher fare) were more likely to survive.\n"
          ]
        },
        {
          "output_type": "display_data",
          "data": {
            "text/plain": [
              "<Figure size 900x500 with 1 Axes>"
            ],
            "image/png": "[encoded data removed]"
          },
          "metadata": {}
        }
      ],
      "source": [
        "fig = plt.figure(figsize=(9,5))\n",
        "ax = fig.add_subplot(111)\n",
        "plt.title(\"Median Fare Distribution\", size = 16)\n",
        "ax.hist(boot_survivors_fare_medians, color ='darkblue', label = f\"Survivors\")\n",
        "plt.axvline(survivors_fare_median_CI[0],color = 'blue',linewidth=2)\n",
        "plt.axvline(survivors_fare_median_CI[1],color = 'blue',linewidth=2)\n",
        "ax.hist(boot_dead_fare_medians, color ='darkred', label = f\"Died\")\n",
        "plt.axvline(dead_fare_median_CI[0],color = 'red',linewidth=2)\n",
        "plt.axvline(dead_fare_median_CI[1],color = 'red',linewidth=2)\n",
        "ax.set(xlabel =\"Fare\" , ylabel = \"#(occurrences)\")\n",
        "ax.legend();\n",
        "\n",
        "# Interpretation from graph\n",
        "print(\"The blue lines show the range (CI) of typical median fare for people who survived.\")\n",
        "print(\"The red lines show the range of typical median fare for people who died.\")\n",
        "print(\"These two ranges (CI) do not overlap each other. They are from each other.\")\n",
        "print(\"This means that people who paid more for their ticket (higher fare) were more likely to survive.\")"
      ]
    },
    {
      "cell_type": "markdown",
      "metadata": {
        "id": "i_mLhDls6n64"
      },
      "source": [
        "##### 8) Use bootstrap to compute the variance of the medians of the two groups"
      ]
    },
    {
      "cell_type": "code",
      "execution_count": 59,
      "metadata": {
        "id": "9MglV32z6qPu",
        "colab": {
          "base_uri": "https://localhost:8080/"
        },
        "outputId": "edba30f6-e951-493f-8639-fa2b5ee22564"
      },
      "outputs": [
        {
          "output_type": "stream",
          "name": "stdout",
          "text": [
            "The variance of the median fare for survivors computed with bootstrap is: 0.99\n",
            "The variance of the median fare for those who died computed with bootstrap is: 0.69\n"
          ]
        }
      ],
      "source": [
        "# Compute the variance of the bootstrapped medians for survivors\n",
        "variance_survivors_fare = np.var(boot_survivors_fare_medians)\n",
        "\n",
        "# Compute the variance of the bootstrapped medians for those who died\n",
        "variance_dead_fare = np.var(boot_dead_fare_medians)\n",
        "\n",
        "print(f\"The variance of the median fare for survivors computed with bootstrap is: {variance_survivors_fare:.2f}\")\n",
        "print(f\"The variance of the median fare for those who died computed with bootstrap is: {variance_dead_fare:.2f}\")"
      ]
    },
    {
      "cell_type": "markdown",
      "metadata": {
        "id": "D0Cq4krkcRKp"
      },
      "source": [
        "#### **Other features**"
      ]
    },
    {
      "cell_type": "markdown",
      "metadata": {
        "id": "mLgob8Qnc7IX"
      },
      "source": [
        "Now we analyse the impact of other features on the survival of the passengers:\n",
        "\n",
        "* **Sex**\n",
        "* **Pclass**$\\;\\in\\{1,2,3\\}$ is the passenger-class"
      ]
    },
    {
      "cell_type": "markdown",
      "metadata": {
        "id": "zw3kZCjicdx-"
      },
      "source": [
        "##### Compute the following conditional probabilities:\n",
        "\n",
        "* $P(Survived=1\\;|\\; Sex = female)$\n",
        "* $P(Survived=1\\;|\\; Sex = male)$"
      ]
    },
    {
      "cell_type": "code",
      "execution_count": 60,
      "metadata": {
        "id": "RJmt-V2dbTjq",
        "colab": {
          "base_uri": "https://localhost:8080/"
        },
        "outputId": "c6811bfe-86c0-4db1-a336-1374cef6c9e1"
      },
      "outputs": [
        {
          "output_type": "stream",
          "name": "stdout",
          "text": [
            "Probability of survival given Sex = female: 0.74\n",
            "Probability of survival given Sex = male: 0.19\n"
          ]
        }
      ],
      "source": [
        "# Note: below is modified with the help of AI\n",
        "\n",
        "# Calculate the number of female and male survivors\n",
        "female_survivors = titanic_df[(titanic_df['Sex'] == 'female') & (titanic_df['Survived'] == 1)].shape[0]\n",
        "male_survivors = titanic_df[(titanic_df['Sex'] == 'male') & (titanic_df['Survived'] == 1)].shape[0]\n",
        "\n",
        "# Calculate the total number of female and male passengers\n",
        "total_female = titanic_df[titanic_df['Sex'] == 'female'].shape[0]\n",
        "total_male = titanic_df[titanic_df['Sex'] == 'male'].shape[0]\n",
        "\n",
        "# Conditional probabilities\n",
        "prob_survived_given_female = female_survivors / total_female if total_female > 0 else 0\n",
        "prob_survived_given_male = male_survivors / total_male if total_male > 0 else 0\n",
        "\n",
        "print(f\"Probability of survival given Sex = female: {prob_survived_given_female:.2f}\")\n",
        "print(f\"Probability of survival given Sex = male: {prob_survived_given_male:.2f}\")"
      ]
    },
    {
      "cell_type": "markdown",
      "metadata": {
        "id": "tINBXYm3sfHt"
      },
      "source": [
        "##### Compute the following conditional probabilities:\n",
        "\n",
        "* $P(Survived=1\\;|\\; Sex = male\\;,\\; Pclass = 1)$\n",
        "* $P(Survived=1\\;|\\; Sex = male\\;,\\; Pclass = 2)$\n",
        "* $P(Survived=1\\;|\\; Sex = male\\;,\\; Pclass = 3)$\n",
        "\n",
        "After finding the values of $Pclass$ corresponding to the highest and the lowest value of survival rate, test the hypothesis that the difference is due to the limited number of data."
      ]
    },
    {
      "cell_type": "code",
      "execution_count": 63,
      "metadata": {
        "id": "yH59SQgtsrIu",
        "colab": {
          "base_uri": "https://localhost:8080/"
        },
        "outputId": "ae694c0d-73cc-4244-e375-12a1d6bff115"
      },
      "outputs": [
        {
          "output_type": "stream",
          "name": "stdout",
          "text": [
            "P(Survived=1 | Sex = male, Pclass = 1): 0.37\n",
            "P(Survived=1 | Sex = male, Pclass = 2): 0.16\n",
            "P(Survived=1 | Sex = male, Pclass = 3): 0.14\n",
            "\n",
            "For males, Pclass 1 has the highest survival rate (0.37).\n",
            "For males, Pclass 3 has the lowest survival rate (0.14).\n",
            "\n",
            "The difference in survival rate between the shuffled groups was greater than 0.23 0 times out of 10000 trials.\n",
            "The observed difference is likely not due to random chance (reject null hypothesis).\n"
          ]
        }
      ],
      "source": [
        "# Note: below is modified with the help of AI\n",
        "\n",
        "# Calculate conditional probabilities for males by Pclass\n",
        "prob_survived_male_pclass1 = titanic_df[(titanic_df['Sex'] == 'male') & (titanic_df['Pclass'] == 1) & (titanic_df['Survived'] == 1)].shape[0] / titanic_df[(titanic_df['Sex'] == 'male') & (titanic_df['Pclass'] == 1)].shape[0]\n",
        "prob_survived_male_pclass2 = titanic_df[(titanic_df['Sex'] == 'male') & (titanic_df['Pclass'] == 2) & (titanic_df['Survived'] == 1)].shape[0] / titanic_df[(titanic_df['Sex'] == 'male') & (titanic_df['Pclass'] == 2)].shape[0]\n",
        "prob_survived_male_pclass3 = titanic_df[(titanic_df['Sex'] == 'male') & (titanic_df['Pclass'] == 3) & (titanic_df['Survived'] == 1)].shape[0] / titanic_df[(titanic_df['Sex'] == 'male') & (titanic_df['Pclass'] == 3)].shape[0]\n",
        "\n",
        "print(f\"P(Survived=1 | Sex = male, Pclass = 1): {prob_survived_male_pclass1:.2f}\")\n",
        "print(f\"P(Survived=1 | Sex = male, Pclass = 2): {prob_survived_male_pclass2:.2f}\")\n",
        "print(f\"P(Survived=1 | Sex = male, Pclass = 3): {prob_survived_male_pclass3:.2f}\")\n",
        "\n",
        "# Find Pclass with highest and lowest survival rates for males\n",
        "male_survival_rates = {1: prob_survived_male_pclass1, 2: prob_survived_male_pclass2, 3: prob_survived_male_pclass3}\n",
        "pclass_highest_survival = max(male_survival_rates, key=male_survival_rates.get)\n",
        "pclass_lowest_survival = min(male_survival_rates, key=male_survival_rates.get)\n",
        "\n",
        "print(f\"\\nFor males, Pclass {pclass_highest_survival} has the highest survival rate ({male_survival_rates[pclass_highest_survival]:.2f}).\")\n",
        "print(f\"For males, Pclass {pclass_lowest_survival} has the lowest survival rate ({male_survival_rates[pclass_lowest_survival]:.2f}).\")\n",
        "\n",
        "# Test the hypothesis that the difference is due to limited data using resampling\n",
        "# Create a combined list of survival statuses for males in the two classes\n",
        "survival_male_highest = titanic_df[(titanic_df['Sex'] == 'male') & (titanic_df['Pclass'] == pclass_highest_survival)]['Survived'].tolist()\n",
        "survival_male_lowest = titanic_df[(titanic_df['Sex'] == 'male') & (titanic_df['Pclass'] == pclass_lowest_survival)]['Survived'].tolist()\n",
        "global_survival_stat = survival_male_highest + survival_male_lowest\n",
        "\n",
        "# Observed difference in survival rates\n",
        "observed_survival_difference = male_survival_rates[pclass_highest_survival] - male_survival_rates[pclass_lowest_survival]\n",
        "\n",
        "trials = 10000\n",
        "count = 0\n",
        "\n",
        "for _ in range(trials):\n",
        "    random.shuffle(global_survival_stat)\n",
        "\n",
        "    # Split into two groups with original sizes\n",
        "    shuffled_highest = global_survival_stat[:len(survival_male_highest)]\n",
        "    shuffled_lowest = global_survival_stat[len(survival_male_highest):]\n",
        "\n",
        "    # Compute survival rate of shuffled groups\n",
        "    shuffled_rate_highest = sum(shuffled_highest) / len(shuffled_highest) if len(shuffled_highest) > 0 else 0\n",
        "    shuffled_rate_lowest = sum(shuffled_lowest) / len(shuffled_lowest) if len(shuffled_lowest) > 0 else 0\n",
        "\n",
        "    # Compute new shuffled difference\n",
        "    diff = shuffled_rate_highest - shuffled_rate_lowest\n",
        "\n",
        "    # Check if the shuffled difference is greater than the observed difference\n",
        "    if diff > observed_survival_difference:\n",
        "        count += 1\n",
        "\n",
        "print(f\"\\nThe difference in survival rate between the shuffled groups was greater than {observed_survival_difference:.2f} {count} times out of {trials} trials.\")\n",
        "\n",
        "# Interpretation of resampling result\n",
        "if count / trials < 0.05:\n",
        "    print(\"The observed difference is likely not due to random chance (reject null hypothesis).\")\n",
        "else:\n",
        "    print(\"The observed difference could be due to random chance (fail to reject null hypothesis).\")"
      ]
    }
  ],
  "metadata": {
    "colab": {
      "collapsed_sections": [
        "ef6-VdzBkZtj",
        "IDib6OPOkZtq"
      ],
      "name": "FoIL_ex1_public.ipynb",
      "provenance": [],
      "include_colab_link": true
    },
    "interpreter": {
      "hash": "582665e005205e644d403bc592ba93d87a6a83a74c3df9237a83d39250e0e3aa"
    },
    "kernelspec": {
      "display_name": "Python 3.8.13 ('Epi38')",
      "language": "python",
      "name": "python3"
    },
    "language_info": {
      "codemirror_mode": {
        "name": "ipython",
        "version": 3
      },
      "file_extension": ".py",
      "mimetype": "text/x-python",
      "name": "python",
      "nbconvert_exporter": "python",
      "pygments_lexer": "ipython3",
      "version": "3.8.8"
    }
  },
  "nbformat": 4,
  "nbformat_minor": 0
}